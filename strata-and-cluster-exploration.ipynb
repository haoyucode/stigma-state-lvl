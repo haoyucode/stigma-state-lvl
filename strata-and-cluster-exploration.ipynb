{
 "cells": [
  {
   "attachments": {},
   "cell_type": "markdown",
   "id": "3c7ee545-94dc-4313-a611-0f6fc38b51d4",
   "metadata": {
    "tags": [
     "hide-input"
    ]
   },
   "source": [
    "# JCOIN Stigma Survey Protocol 2: Strata and Cluster Exploration\n",
    "\n",
    "Goal is to identify sampling stratum in order to get inputs necessary for variance calculations, preferrably using bootstrap estimation using [samplics](https://samplics-org.github.io/samplics/pages/weight_replicates.html)\n",
    "\n",
    "\n",
    "1. Sampling frame summary\n",
    "2. Sample weighting methodlogy provided by Amerispeak (2 step process)\n",
    "3. Identifying stratum variables in dataset\n"
   ]
  },
  {
   "attachments": {},
   "cell_type": "markdown",
   "id": "92e65f40",
   "metadata": {},
   "source": [
    "## Sampling frame\n",
    "\n",
    "Our sampling frame will be a random sample of AmeriSpeak panelists (n= 1,000 completes each wave or 70% of 1,428 eligible participants to achieve a nationally representative sample and an oversampling in states with at least one JCOIN study site (n=200 per state; 16 states total without Puerto Rico) and six non-JCOIN matched comparison states (n=200 per state) to develop state-level estimates, making sure to include states from the South and Pacific NW. The total sample is projected to be 5,400 completed surveys."
   ]
  },
  {
   "attachments": {},
   "cell_type": "markdown",
   "id": "a636c9e6",
   "metadata": {},
   "source": [
    "## Sample weighting methodology (from Project Report PDF)\n",
    "\n",
    "### Statistical Weighting\n",
    "Statistical weights for the study eligible respondents were calculated using __panel base sampling weights__ to start. \n",
    "\n",
    "**Panel base sampling weights** for all sampled housing units are computed as the inverse of probability of selection \n",
    "from the NORC National Frame (the sampling frame that is used to sample housing units for AmeriSpeak) \n",
    "or address-based sample. The sample design and recruitment protocol for the AmeriSpeak Panel involves \n",
    "subsampling of initial non-respondent housing units. These subsampled non-respondent housing units are \n",
    "selected for an in-person follow-up. The subsample of housing units that are selected for the nonresponse \n",
    "follow-up (NRFU) have their panel base sampling weights inflated by the inverse of the subsampling rate. \n",
    "The base sampling weights are further adjusted to account for unknown eligibility and nonresponse among \n",
    "eligible housing units. The household-level nonresponse adjusted weights are then post-stratified to external \n",
    "counts for number of households obtained from the Current Population Survey. Then, these household-level \n",
    "post-stratified weights are assigned to each eligible adult in every recruited household. Furthermore, a \n",
    "person-level nonresponse adjustment accounts for nonresponding adults within a recruited household. \n",
    "\n",
    "\n",
    "Finally, panel weights are raked to external population totals associated with age, sex, education, \n",
    "race/Hispanic ethnicity, housing tenure, telephone status, and Census Division. The external population \n",
    "totals are obtained from the Current Population Survey. The weights adjusted to the external population \n",
    "totals are the final panel weights.\n",
    "\n",
    "#### Panel Weighting Variables & the Variable Categories \n",
    "**Age**: 18-24, 25-29, 20-39, 40-49, 50-59, 60-64, and 65+  \n",
    "**Gender**: Male and Female  \n",
    "**Census Division**: New England, Middle Atlantic, East North Central, West North Central, South Atlantic, East South Central, West South Central, Mountain, and Pacific  \n",
    "**Race/Ethnicity**: Non-Hispanic White, Non-Hispanic Black, Hispanic, and Non-Hispanic Other  \n",
    "**Education**: Less than High School, High School/GED, Some College, and BA and Above  \n",
    "**Housing Tenure**: Home Owner and Other  \n",
    "**Household phone status**: Cell Phone-only, Dual User, and Landline-only/Phoneless\n",
    "\n",
    "**Study-specific base sampling weights** are derived using a combination of the final panel weight and the probability \n",
    "of selection associated with the sampled panel member. Since not all sampled panel members respond to the \n",
    "survey interview, an adjustment is needed to account for and adjust for survey non-respondents. This \n",
    "adjustment decreases potential nonresponse bias associated with sampled panel members who did not \n",
    "complete the survey interview for the study. Thus, the nonresponse adjusted survey weights for the study are \n",
    "adjusted via a raking ratio method to general population age 18 and older population totals associated with \n",
    "the following topline socio-demographic characteristics: age, sex, education, race/Hispanic ethnicity, and \n",
    "Census Division, and the following socio-demographic interactions: age x gender, age x race/ethnicity, and \n",
    "race/ethnicity x gender.\n",
    "\n",
    "#### Study-Specific Post-Stratification Weighting Variables & the Variable Categories \n",
    "**Age**: 18-24, 25-29, 30-39, 40-49, 50-59, 60-64, and 65+  \n",
    "**Gender**: Male and Female  \n",
    "**State Group**: Northeast, Midwest, South, West, Arizona, California, Colorado, Florida, Georgia, \n",
    "Illinois, Indiana, Kentucky, Massachusetts, Maryland, Minnesota, North Carolina, New Jersey, \n",
    "New York, Oregon, Pennsylvania, Texas, Virginia, Washington, Wisconsin  \n",
    "**Education**: Less than High School, High School/GED, Some College, and BA and Above  \n",
    "**Race/Ethnicity**: Non-Hispanic White, Non-Hispanic Black, Hispanic, and Non-Hispanic Other  \n",
    "**Age x Gender**: 18-34 Male, 18-34 Female, 35-49 Male, 35-49 Female, 50-64 Male, 50-64 Female,\n",
    "65+ Male, and 65+ Female  \n",
    "**Age x Race/Ethnicity**: 18-34 Non-Hispanic White, 18-34 All Other, 35-49 Non-Hispanic \n",
    "White, 35-49 All Other, 50-64 All Other, 50-64 All Other, 65+ Non-Hispanic White, and 65+ \n",
    "All Other  \n",
    "**Race/Ethnicity x Gender**: Non-Hispanic White Male, Non-Hispanic White Female, All Other Male, \n",
    "and All Other Female\n",
    "\n",
    "The weights adjusted to the external population totals are the final study weights.\n",
    "\n",
    "At the final stage of weighting, any extreme weights were trimmed based on a criterion of minimizing the \n",
    "mean squared error associated with key survey estimates, and then, weights re-raked to the same population \n",
    "totals.\n",
    "\n",
    "Raking and re-raking is done during the weighting process such that the weighted demographic distribution \n",
    "of the survey completes resemble the demographic distribution in the target population. The assumption is \n",
    "that the key survey items are related to the demographics. Therefore, by aligning the survey respondent \n",
    "demographics with the target population, the key survey items should also be in closer alignment with the \n",
    "target population."
   ]
  },
  {
   "cell_type": "code",
   "execution_count": null,
   "id": "67b6df4a-6479-4274-aba2-34157f64eee6",
   "metadata": {
    "tags": [
     "hide-input",
     "margin"
    ]
   },
   "outputs": [],
   "source": [
    "# import packages\n",
    "import pandas as pd\n",
    "import numpy as np\n",
    "import pyreadstat\n",
    "from ydata_profiling import ProfileReport"
   ]
  },
  {
   "cell_type": "code",
   "execution_count": null,
   "id": "524ded81",
   "metadata": {},
   "outputs": [],
   "source": [
    "DATA_FILE = (\n",
    "    \"P:/3645/Common/Protocol 2 Custom Survey/\"\n",
    "    \"Analysis/Data File/\"\n",
    "    \"3645_JCOIN_HEAL Initiative 2021_NORC_Jan2022_1.sav\"\n",
    ")"
   ]
  },
  {
   "cell_type": "code",
   "execution_count": null,
   "id": "df55a4f9-ad51-47dd-be63-e77890aa430c",
   "metadata": {
    "tags": [
     "hide-input",
     "margin"
    ]
   },
   "outputs": [],
   "source": [
    "# import data and metadata (data dictionaries)\n",
    "df, meta = pyreadstat.read_sav(DATA_FILE,apply_value_formats=True)\n"
   ]
  },
  {
   "cell_type": "code",
   "execution_count": null,
   "id": "8374382c",
   "metadata": {},
   "outputs": [],
   "source": [
    "# narrow down the dataset to only variables that are collected at each of the time-points\n",
    "\n",
    "# standardize column names across datasets and metadatasets\n",
    "for df in [df]:\n",
    "    df.columns = df.columns.str.lower()"
   ]
  },
  {
   "attachments": {},
   "cell_type": "markdown",
   "id": "afbdd572",
   "metadata": {},
   "source": [
    "### Identifying sampling variables from dataset"
   ]
  },
  {
   "cell_type": "code",
   "execution_count": null,
   "id": "ba472875",
   "metadata": {},
   "outputs": [],
   "source": [
    "# gender\n",
    "# gender1 in metadata:\n",
    "# What sex were you assigned at birth, on your original birth certificate?\n",
    "# More of a sex but it appears this was used for sampling\n",
    "# not sure what gender_re is (I think it was added for convenience)\n",
    "\n",
    "# USE gender1\n",
    "sub_df_1.filter(regex=\"gender[12|_re]\").value_counts()"
   ]
  },
  {
   "cell_type": "code",
   "execution_count": null,
   "id": "ed43e8ce",
   "metadata": {},
   "outputs": [],
   "source": [
    "# education \n",
    "# 4 categories is what is in sampling methodology doc \n",
    "# (but no description in metadata -- only 5 cat variable is in)\n",
    "\n",
    "# USE: educ4\n",
    "sub_df_1.filter(regex=\"educ4|educ5\").value_counts()"
   ]
  },
  {
   "cell_type": "code",
   "execution_count": null,
   "id": "4e7ed423",
   "metadata": {},
   "outputs": [],
   "source": [
    "# race/ethnicity\n",
    "# only raceethnicity in code book but 4 categories used in sampling methodology\n",
    "\n",
    "# USE: race_4cat\n",
    "\n",
    "sub_df_1.filter(regex=\"racethnicity|race_4cat\").value_counts()"
   ]
  },
  {
   "cell_type": "code",
   "execution_count": null,
   "id": "55dff3b4",
   "metadata": {},
   "outputs": [],
   "source": [
    "# age\n",
    "\n",
    "# USE age7 (7 categories in sampling methodlogy)\n",
    "sub_df_1.filter(regex=\"^age[4|7]\").value_counts()"
   ]
  },
  {
   "cell_type": "code",
   "execution_count": null,
   "id": "76da3ce7",
   "metadata": {},
   "outputs": [],
   "source": [
    "# In sampling report:\n",
    "#State Group: Northeast, Midwest, South, West, Arizona, California, Colorado, Florida, Georgia, \n",
    "#Illinois, Indiana, Kentucky, Massachusetts, Maryland, Minnesota, North Carolina, New Jersey, \n",
    "#New York, Oregon, Pennsylvania, Texas, Virginia, Washington, Wisconsin\n",
    "\n",
    "# The inclusion of census and state may be due to combo of oversample (state) or national sample (census)\n",
    "\n",
    "sub_df_1.filter(regex=\"state$|region4|weight\\d\").drop_duplicates().head()"
   ]
  },
  {
   "cell_type": "code",
   "execution_count": null,
   "id": "52e6ecdb",
   "metadata": {},
   "outputs": [],
   "source": [
    "# create variable categories\n",
    "sub_df_1[\"strata_state_or_census\"] = np.where(\n",
    "    sub_df_1.weight1.isna(),\n",
    "    sub_df_1[\"region4\"],\n",
    "    sub_df_1[\"state\"])\n",
    "sub_df_1[\"stata_race\"] = sub_df_1[\"race_4cat\"]\n",
    "sub_df_1[\"strata_age\"] = sub_df_1[\"age7\"]\n",
    "sub_df_1[\"strata_gender\"] = sub_df_1[\"gender1\"]\n",
    "sub_df_1[\"strata_agexgender\"] = sub_df_1[\"age7\"].astype(str) + \"_x_\" + sub_df_1[\"gender1\"].astype(str)\n",
    "sub_df_1[\"strata_agexrace\"] = sub_df_1[\"age7\"].astype(str) + \"_x_\" + sub_df_1[\"race_4cat\"].astype(str)\n",
    "sub_df_1[\"strata_racexgender\"] = sub_df_1[\"race_4cat\"].astype(str) + \"_x_\" + sub_df_1[\"gender1\"].astype(str)"
   ]
  },
  {
   "cell_type": "code",
   "execution_count": null,
   "id": "cde77f33",
   "metadata": {},
   "outputs": [],
   "source": [
    "ProfileReport(\n",
    "    sub_df_1.filter(regex=\"^strata\"),\n",
    "    sensitive=True,\n",
    "    samples=None,\n",
    "    correlations=None,\n",
    "    missing_diagrams=None,\n",
    "    duplicates=None,\n",
    "    interactions=None,)"
   ]
  },
  {
   "cell_type": "code",
   "execution_count": null,
   "id": "c09a0aa3",
   "metadata": {},
   "outputs": [],
   "source": []
  }
 ],
 "metadata": {
  "kernelspec": {
   "display_name": "stigma_survey_p1_env",
   "language": "python",
   "name": "python3"
  },
  "language_info": {
   "codemirror_mode": {
    "name": "ipython",
    "version": 3
   },
   "file_extension": ".py",
   "mimetype": "text/x-python",
   "name": "python",
   "nbconvert_exporter": "python",
   "pygments_lexer": "ipython3",
   "version": "3.11.1"
  }
 },
 "nbformat": 4,
 "nbformat_minor": 5
}
