{
 "cells": [
  {
   "attachments": {},
   "cell_type": "markdown",
   "id": "3c7ee545-94dc-4313-a611-0f6fc38b51d4",
   "metadata": {
    "tags": [
     "hide-input"
    ]
   },
   "source": [
    "# Strata and Cluster Exploration\n",
    "\n",
    "Bootstrap weighting"
   ]
  },
  {
   "attachments": {},
   "cell_type": "markdown",
   "id": "a636c9e6",
   "metadata": {},
   "source": [
    "\n",
    "## Sample weighting methodology (from Project Report PDF)\n",
    "\n",
    "### Statistical Weighting\n",
    "Statistical weights for the study eligible respondents were calculated using panel base sampling weights to start. \n",
    "\n",
    "**Panel base sampling weights** for all sampled housing units are computed as the inverse of probability of selection \n",
    "from the NORC National Frame (the sampling frame that is used to sample housing units for AmeriSpeak) \n",
    "or address-based sample. The sample design and recruitment protocol for the AmeriSpeak Panel involves \n",
    "subsampling of initial non-respondent housing units. These subsampled non-respondent housing units are \n",
    "selected for an in-person follow-up. The subsample of housing units that are selected for the nonresponse \n",
    "follow-up (NRFU) have their panel base sampling weights inflated by the inverse of the subsampling rate. \n",
    "The base sampling weights are further adjusted to account for unknown eligibility and nonresponse among \n",
    "eligible housing units. The household-level nonresponse adjusted weights are then post-stratified to external \n",
    "counts for number of households obtained from the Current Population Survey. Then, these household-level \n",
    "post-stratified weights are assigned to each eligible adult in every recruited household. Furthermore, a \n",
    "person-level nonresponse adjustment accounts for nonresponding adults within a recruited household. \n",
    "\n",
    "\n",
    "Finally, panel weights are raked to external population totals associated with age, sex, education, \n",
    "race/Hispanic ethnicity, housing tenure, telephone status, and Census Division. The external population \n",
    "totals are obtained from the Current Population Survey. The weights adjusted to the external population \n",
    "totals are the final panel weights.\n",
    "\n",
    "#### Panel Weighting Variables & the Variable Categories \n",
    "**Age**: 18-24, 25-29, 20-39, 40-49, 50-59, 60-64, and 65+  \n",
    "**Gender**: Male and Female  \n",
    "**Census Division**: New England, Middle Atlantic, East North Central, West North Central, South Atlantic, East South Central, West South Central, Mountain, and Pacific  \n",
    "**Race/Ethnicity**: Non-Hispanic White, Non-Hispanic Black, Hispanic, and Non-Hispanic Other  \n",
    "**Education**: Less than High School, High School/GED, Some College, and BA and Above  \n",
    "**Housing Tenure**: Home Owner and Other  \n",
    "**Household phone status**: Cell Phone-only, Dual User, and Landline-only/Phoneless\n",
    "\n",
    "**Study-specific base sampling weights** are derived using a combination of the final panel weight and the probability \n",
    "of selection associated with the sampled panel member. Since not all sampled panel members respond to the \n",
    "survey interview, an adjustment is needed to account for and adjust for survey non-respondents. This \n",
    "adjustment decreases potential nonresponse bias associated with sampled panel members who did not \n",
    "complete the survey interview for the study. Thus, the nonresponse adjusted survey weights for the study are \n",
    "adjusted via a raking ratio method to general population age 18 and older population totals associated with \n",
    "the following topline socio-demographic characteristics: age, sex, education, race/Hispanic ethnicity, and \n",
    "Census Division, and the following socio-demographic interactions: age x gender, age x race/ethnicity, and \n",
    "race/ethnicity x gender.\n",
    "\n",
    "#### Study-Specific Post-Stratification Weighting Variables & the Variable Categories \n",
    "**Age**: 18-24, 25-29, 30-39, 40-49, 50-59, 60-64, and 65+  \n",
    "**Gender**: Male and Female  \n",
    "**State Group**: Northeast, Midwest, South, West, Arizona, California, Colorado, Florida, Georgia, \n",
    "Illinois, Indiana, Kentucky, Massachusetts, Maryland, Minnesota, North Carolina, New Jersey, \n",
    "New York, Oregon, Pennsylvania, Texas, Virginia, Washington, Wisconsin  \n",
    "**Education**: Less than High School, High School/GED, Some College, and BA and Above  \n",
    "**Race/Ethnicity**: Non-Hispanic White, Non-Hispanic Black, Hispanic, and Non-Hispanic Other  \n",
    "**Age x Gender**: 18-34 Male, 18-34 Female, 35-49 Male, 35-49 Female, 50-64 Male, 50-64 Female,\n",
    "65+ Male, and 65+ Female  \n",
    "**Age x Race/Ethnicity**: 18-34 Non-Hispanic White, 18-34 All Other, 35-49 Non-Hispanic \n",
    "White, 35-49 All Other, 50-64 All Other, 50-64 All Other, 65+ Non-Hispanic White, and 65+ \n",
    "All Other  \n",
    "**Race/Ethnicity x Gender**: Non-Hispanic White Male, Non-Hispanic White Female, All Other Male, \n",
    "and All Other Female\n",
    "\n",
    "The weights adjusted to the external population totals are the final study weights.\n",
    "\n",
    "At the final stage of weighting, any extreme weights were trimmed based on a criterion of minimizing the \n",
    "mean squared error associated with key survey estimates, and then, weights re-raked to the same population \n",
    "totals.\n",
    "\n",
    "Raking and re-raking is done during the weighting process such that the weighted demographic distribution \n",
    "of the survey completes resemble the demographic distribution in the target population. The assumption is \n",
    "that the key survey items are related to the demographics. Therefore, by aligning the survey respondent \n",
    "demographics with the target population, the key survey items should also be in closer alignment with the \n",
    "target population."
   ]
  },
  {
   "cell_type": "code",
   "execution_count": null,
   "id": "98999284",
   "metadata": {},
   "outputs": [],
   "source": [
    "%matplotlib inline"
   ]
  },
  {
   "cell_type": "code",
   "execution_count": null,
   "id": "67b6df4a-6479-4274-aba2-34157f64eee6",
   "metadata": {
    "tags": [
     "hide-input",
     "margin"
    ]
   },
   "outputs": [],
   "source": [
    "# import packages\n",
    "import os\n",
    "import json\n",
    "from pathlib import Path\n",
    "import pandas as pd\n",
    "import numpy as np\n",
    "import pyreadstat\n",
    "import seaborn as sns\n",
    "import matplotlib.pyplot as plt\n",
    "import plotly.express as px\n",
    "from utils import *\n",
    "# from ydata_profiling import ProfileReport\n",
    "pd.set_option('mode.chained_assignment', None)"
   ]
  },
  {
   "attachments": {},
   "cell_type": "markdown",
   "id": "512e17ab",
   "metadata": {},
   "source": [
    "### Data cleaning/pre-processing"
   ]
  },
  {
   "cell_type": "code",
   "execution_count": null,
   "id": "524ded81",
   "metadata": {},
   "outputs": [],
   "source": [
    "# inputs\n",
    "STATE_ABBREVIATIONS = \"state_abbrev_mappings.json\"\n",
    "DATA_FILE = (\n",
    "    \"P:/3645/Common/Protocol 2 Custom Survey/\"\n",
    "    \"Analysis/Data File/\"\n",
    "    \"3645_JCOIN_HEAL Initiative 2021_NORC_Jan2022_1.sav\"\n",
    ")"
   ]
  },
  {
   "cell_type": "code",
   "execution_count": null,
   "id": "df55a4f9-ad51-47dd-be63-e77890aa430c",
   "metadata": {
    "tags": [
     "hide-input",
     "margin"
    ]
   },
   "outputs": [],
   "source": [
    "# import data and metadata (data dictionaries)\n",
    "df, meta = pyreadstat.read_sav(DATA_FILE,apply_value_formats=True)\n"
   ]
  },
  {
   "cell_type": "code",
   "execution_count": null,
   "id": "8374382c",
   "metadata": {},
   "outputs": [],
   "source": [
    "# narrow down the dataset to only variables that are collected at each of the time-points\n",
    "\n",
    "# standardize column names across datasets and metadatasets\n",
    "for df in [df]:\n",
    "    df.columns = df.columns.str.lower()"
   ]
  },
  {
   "cell_type": "code",
   "execution_count": null,
   "id": "94a607ed",
   "metadata": {},
   "outputs": [],
   "source": [
    "vars_of_interest = ['p_over','weight1','weight2','stigma_scale_score','expanded_10item_stigma','state','age4','racethnicity','educ5','personaluse_ever','familyuse_ever','personalcrimjust_ever','familycrimjust_ever']\n",
    "categorical_vars = ['p_over','state','age4','racethnicity','educ5',\n",
    "    'personaluse_ever','familyuse_ever',\n",
    "    'personalcrimjust_ever','familycrimjust_ever']"
   ]
  },
  {
   "cell_type": "code",
   "execution_count": null,
   "id": "41e21360",
   "metadata": {},
   "outputs": [],
   "source": [
    "# narrow down the dataset to only a few interesting (and relatively clean, straightforward variables) - check for missingness and impute to fill in missing\n",
    "#sub_df_1 = df[vars_of_interest]\n",
    "sub_df_1 = df"
   ]
  },
  {
   "cell_type": "code",
   "execution_count": null,
   "id": "steady-filing",
   "metadata": {
    "tags": [
     "hide-input",
     "margin"
    ]
   },
   "outputs": [],
   "source": [
    "\n",
    "sub_df_1.familycrimjust_ever.replace({0:\"No\",1:\"Yes\"},inplace=True)\n",
    "sub_df_1.familyuse_ever.replace({\" No\":\"No\"},inplace=True)\n",
    "sub_df_1.personalcrimjust_ever.replace({\"Yes, ever arrested or incarcerated\":\"Yes\", \"No, never arrested or incarcerated\":\"No\"},inplace=True)\n"
   ]
  },
  {
   "cell_type": "code",
   "execution_count": null,
   "id": "89596f1a",
   "metadata": {},
   "outputs": [],
   "source": [
    "# impute missing stigma scale score vals with median per timepoint, impute missing personaluse_ever with mode, \"No\"\n",
    "\n",
    "# impute missing stigma scale score values as the median score by survey time-point\n",
    "#sub_df_1['stigma_scale_score'].fillna(sub_df_1.groupby('time-point')['stigma_scale_score'].transform('median'),inplace=True)\n",
    "sub_df_1['stigma_scale_score'].fillna(sub_df_1['stigma_scale_score'].median(),inplace=True)\n",
    "sub_df_1['expanded_10item_stigma'].fillna(sub_df_1['expanded_10item_stigma'].median(),inplace=True)"
   ]
  },
  {
   "cell_type": "code",
   "execution_count": null,
   "id": "61f0175c",
   "metadata": {},
   "outputs": [],
   "source": [
    "# add df column with state 2 letter code\n",
    "# https://pythonfix.com/code/us-states-abbrev.py/\n",
    "# state name to two letter code dictionary\n",
    "us_state_to_abbrev = json.loads(Path(STATE_ABBREVIATIONS).read_text())\n",
    "state_cd = sub_df_1.state.replace(us_state_to_abbrev)\n",
    "sub_df_1.insert(6,\"state_cd\",state_cd,True)"
   ]
  },
  {
   "cell_type": "code",
   "execution_count": null,
   "id": "8ae89ce6",
   "metadata": {},
   "outputs": [],
   "source": [
    "# Add jcoin information\n",
    "jcoin_json = json.loads(Path(\"jcoin_states.json\").read_text())\n",
    "\n",
    "jcoin_df = (pd.DataFrame(jcoin_json)\n",
    "    .assign(hub_types=lambda df:df[\"hub\"]+\"(\"+df[\"type\"]+\")\")\n",
    "    .groupby('states')\n",
    "    # make a list of the name and type of hub/study and how many hubs are in that state\n",
    "    .agg({\"hub_types\":lambda s:\",\".join(s),\"hub\":\"count\"})\n",
    "    .reset_index()\n",
    "    .rename(\n",
    "        columns={\"states\":\"state_cd\",\n",
    "        \"hub\":\"jcoin_hub_count\",\n",
    "        \"hub_types\":\"jcoin_hub_types\"})\n",
    ")"
   ]
  },
  {
   "cell_type": "code",
   "execution_count": null,
   "id": "c68029c6",
   "metadata": {},
   "outputs": [],
   "source": [
    "sub_df_1 = sub_df_1.merge(jcoin_df,on=\"state_cd\",how=\"left\")\n",
    "sub_df_1[\"jcoin_hub_types\"].fillna(\"not JCOIN\",inplace=True)\n",
    "sub_df_1[\"jcoin_hub_count\"].fillna(0,inplace=True)\n",
    "sub_df_1[\"is_jcoin_hub\"] = np.where(sub_df_1[\"jcoin_hub_types\"]==\"not JCOIN\",\"No\",\"Yes\")"
   ]
  },
  {
   "attachments": {},
   "cell_type": "markdown",
   "id": "afbdd572",
   "metadata": {},
   "source": [
    "### Identifying sampling variables from dataset"
   ]
  },
  {
   "cell_type": "code",
   "execution_count": null,
   "id": "ba472875",
   "metadata": {},
   "outputs": [],
   "source": [
    "# gender\n",
    "# gender1 in metadata:\n",
    "# What sex were you assigned at birth, on your original birth certificate?\n",
    "# More of a sex but it appears this was used for sampling\n",
    "# not sure what gender_re is (I think it was added for convenience)\n",
    "\n",
    "# USE gender1\n",
    "sub_df_1.filter(regex=\"gender[12|_re]\").value_counts()"
   ]
  },
  {
   "cell_type": "code",
   "execution_count": null,
   "id": "ed43e8ce",
   "metadata": {},
   "outputs": [],
   "source": [
    "# education \n",
    "# 4 categories is what is in sampling methodology doc \n",
    "# (but no description in metadata -- only 5 cat variable is in)\n",
    "\n",
    "# USE: educ4\n",
    "sub_df_1.filter(regex=\"educ4|educ5\").value_counts()"
   ]
  },
  {
   "cell_type": "code",
   "execution_count": null,
   "id": "4e7ed423",
   "metadata": {},
   "outputs": [],
   "source": [
    "# race/ethnicity\n",
    "# only raceethnicity in code book but 4 categories used in sampling methodology\n",
    "\n",
    "# USE: race_4cat\n",
    "\n",
    "sub_df_1.filter(regex=\"racethnicity|race_4cat\").value_counts()"
   ]
  },
  {
   "cell_type": "code",
   "execution_count": null,
   "id": "55dff3b4",
   "metadata": {},
   "outputs": [],
   "source": [
    "# age\n",
    "\n",
    "# USE age7 (7 categories in sampling methodlogy)\n",
    "sub_df_1.filter(regex=\"^age[4|7]\").value_counts()"
   ]
  },
  {
   "cell_type": "code",
   "execution_count": null,
   "id": "76da3ce7",
   "metadata": {},
   "outputs": [],
   "source": [
    "# In sampling report:\n",
    "#State Group: Northeast, Midwest, South, West, Arizona, California, Colorado, Florida, Georgia, \n",
    "#Illinois, Indiana, Kentucky, Massachusetts, Maryland, Minnesota, North Carolina, New Jersey, \n",
    "#New York, Oregon, Pennsylvania, Texas, Virginia, Washington, Wisconsin\n",
    "\n",
    "# These are not mutually exclusive (eg Midwest and Illinois)...\n",
    "\n",
    "sub_df_1.filter(regex=\"state$|region4\")"
   ]
  },
  {
   "cell_type": "code",
   "execution_count": null,
   "id": "52e6ecdb",
   "metadata": {},
   "outputs": [],
   "source": [
    "# create interaction variables\n",
    "sub_df_1[\"strata_age\"] = sub_df_1[\"age7\"]\n",
    "sub_df_1[\"strata_gender\"] = sub_df_1[\"gender1\"]\n",
    "sub_df_1[\"strata_agexgender\"] = sub_df_1[\"age7\"].astype(str) + \"_x_\" + sub_df_1[\"gender1\"].astype(str)\n",
    "sub_df_1[\"strata_agexrace\"] = sub_df_1[\"age7\"].astype(str) + \"_x_\" + sub_df_1[\"race_4cat\"].astype(str)\n",
    "sub_df_1[\"strata_racexgender\"] = sub_df_1[\"race_4cat\"].astype(str) + \"_x_\" + sub_df_1[\"gender1\"].astype(str)"
   ]
  }
 ],
 "metadata": {
  "kernelspec": {
   "display_name": "stigma_survey_p1_env",
   "language": "python",
   "name": "python3"
  },
  "language_info": {
   "codemirror_mode": {
    "name": "ipython",
    "version": 3
   },
   "file_extension": ".py",
   "mimetype": "text/x-python",
   "name": "python",
   "nbconvert_exporter": "python",
   "pygments_lexer": "ipython3",
   "version": "3.11.1"
  }
 },
 "nbformat": 4,
 "nbformat_minor": 5
}
