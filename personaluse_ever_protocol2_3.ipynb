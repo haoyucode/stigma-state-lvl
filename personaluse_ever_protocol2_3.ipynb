{
 "cells": [
  {
   "cell_type": "markdown",
   "id": "3c7ee545-94dc-4313-a611-0f6fc38b51d4",
   "metadata": {
    "tags": [
     "hide-input"
    ]
   },
   "source": [
    "# Stigma against Opioid Use Disorder varies by Personal Use status"
   ]
  },
  {
   "cell_type": "markdown",
   "id": "b33a0ab3-27a0-4d2c-9f3c-8bdd71b7a1c6",
   "metadata": {
    "tags": [
     "margin",
     "remove-input"
    ]
   },
   "source": [
    "```{margin} \n",
    "**To follow the full analysis, click through the hidden analysis code below**\n",
    "```"
   ]
  },
  {
   "cell_type": "code",
   "execution_count": null,
   "id": "98999284",
   "metadata": {},
   "outputs": [],
   "source": [
    "%matplotlib inline"
   ]
  },
  {
   "cell_type": "code",
   "execution_count": null,
   "id": "67b6df4a-6479-4274-aba2-34157f64eee6",
   "metadata": {
    "tags": [
     "hide-input",
     "margin"
    ]
   },
   "outputs": [],
   "source": [
    "# import packages\n",
    "import os\n",
    "import json\n",
    "from pathlib import Path\n",
    "import pandas as pd\n",
    "import numpy as np\n",
    "import pyreadstat\n",
    "import seaborn as sns\n",
    "import matplotlib.pyplot as plt\n",
    "import plotly.express as px\n",
    "from utils import *\n",
    "pd.set_option('mode.chained_assignment', None)"
   ]
  },
  {
   "attachments": {},
   "cell_type": "markdown",
   "id": "512e17ab",
   "metadata": {},
   "source": [
    "### Data cleaning/pre-processing"
   ]
  },
  {
   "cell_type": "code",
   "execution_count": null,
   "id": "524ded81",
   "metadata": {},
   "outputs": [],
   "source": [
    "# inputs\n",
    "STATE_ABBREVIATIONS = \"state_abbrev_mappings.json\"\n",
    "DATA_FILE = (\n",
    "    \"P:/3645/Common/Protocol 2 Custom Survey/\"\n",
    "    \"Analysis/Data File/\"\n",
    "    \"3645_JCOIN_HEAL Initiative 2021_NORC_Jan2022_1.sav\"\n",
    ")"
   ]
  },
  {
   "cell_type": "code",
   "execution_count": null,
   "id": "df55a4f9-ad51-47dd-be63-e77890aa430c",
   "metadata": {
    "tags": [
     "hide-input",
     "margin"
    ]
   },
   "outputs": [],
   "source": [
    "# import data and metadata (data dictionaries)\n",
    "df, meta = pyreadstat.read_sav(DATA_FILE,apply_value_formats=True)\n"
   ]
  },
  {
   "cell_type": "code",
   "execution_count": null,
   "id": "8374382c",
   "metadata": {},
   "outputs": [],
   "source": [
    "# narrow down the dataset to only variables that are collected at each of the time-points\n",
    "\n",
    "# standardize column names across datasets and metadatasets\n",
    "for df in [df]:\n",
    "    df.columns = df.columns.str.lower()"
   ]
  },
  {
   "cell_type": "code",
   "execution_count": null,
   "id": "94a607ed",
   "metadata": {},
   "outputs": [],
   "source": [
    "vars_of_interest = ['p_over','weight1','weight2','stigma_scale_score','expanded_10item_stigma','state','age4','racethnicity','educ5','personaluse_ever','familyuse_ever','personalcrimjust_ever','familycrimjust_ever']\n",
    "categorical_vars = ['p_over','state','age4','racethnicity','educ5',\n",
    "    'personaluse_ever','familyuse_ever',\n",
    "    'personalcrimjust_ever','familycrimjust_ever']"
   ]
  },
  {
   "cell_type": "code",
   "execution_count": null,
   "id": "41e21360",
   "metadata": {},
   "outputs": [],
   "source": [
    "# narrow down the dataset to only a few interesting (and relatively clean, straightforward variables) - check for missingness and impute to fill in missing\n",
    "sub_df_1 = df[vars_of_interest]"
   ]
  },
  {
   "cell_type": "code",
   "execution_count": null,
   "id": "steady-filing",
   "metadata": {
    "tags": [
     "hide-input",
     "margin"
    ]
   },
   "outputs": [],
   "source": [
    "\n",
    "sub_df_1.familycrimjust_ever.replace({0:\"No\",1:\"Yes\"},inplace=True)\n",
    "sub_df_1.familyuse_ever.replace({\" No\":\"No\"},inplace=True)\n",
    "sub_df_1.personalcrimjust_ever.replace({\"Yes, ever arrested or incarcerated\":\"Yes\", \"No, never arrested or incarcerated\":\"No\"},inplace=True)\n"
   ]
  },
  {
   "cell_type": "code",
   "execution_count": null,
   "id": "89596f1a",
   "metadata": {},
   "outputs": [],
   "source": [
    "# impute missing stigma scale score vals with median per timepoint, impute missing personaluse_ever with mode, \"No\"\n",
    "\n",
    "# impute missing stigma scale score values as the median score by survey time-point\n",
    "#sub_df_1['stigma_scale_score'].fillna(sub_df_1.groupby('time-point')['stigma_scale_score'].transform('median'),inplace=True)\n",
    "sub_df_1['stigma_scale_score'].fillna(sub_df_1['stigma_scale_score'].median(),inplace=True)\n",
    "sub_df_1['expanded_10item_stigma'].fillna(sub_df_1['expanded_10item_stigma'].median(),inplace=True)"
   ]
  },
  {
   "cell_type": "code",
   "execution_count": null,
   "id": "61f0175c",
   "metadata": {},
   "outputs": [],
   "source": [
    "# add df column with state 2 letter code\n",
    "# https://pythonfix.com/code/us-states-abbrev.py/\n",
    "# state name to two letter code dictionary\n",
    "us_state_to_abbrev = json.loads(Path(STATE_ABBREVIATIONS).read_text())\n",
    "state_cd = sub_df_1.state.replace(us_state_to_abbrev)\n",
    "sub_df_1.insert(6,\"state_cd\",state_cd,True)"
   ]
  },
  {
   "cell_type": "code",
   "execution_count": null,
   "id": "8ae89ce6",
   "metadata": {},
   "outputs": [],
   "source": [
    "# Add jcoin information\n",
    "jcoin_json = json.loads(Path(\"jcoin_states.json\").read_text())\n",
    "\n",
    "jcoin_df = (pd.DataFrame(jcoin_json)\n",
    "    .assign(hub_types=lambda df:df[\"hub\"]+\"(\"+df[\"type\"]+\")\")\n",
    "    .groupby('states')\n",
    "    # make a list of the name and type of hub/study and how many hubs are in that state\n",
    "    .agg({\"hub_types\":lambda s:\",\".join(s),\"hub\":\"count\"})\n",
    "    .reset_index()\n",
    "    .rename(\n",
    "        columns={\"states\":\"state_cd\",\n",
    "        \"hub\":\"jcoin_hub_count\",\n",
    "        \"hub_types\":\"jcoin_hub_types\"})\n",
    ")"
   ]
  },
  {
   "cell_type": "code",
   "execution_count": null,
   "id": "c68029c6",
   "metadata": {},
   "outputs": [],
   "source": [
    "sub_df_1 = sub_df_1.merge(jcoin_df,on=\"state_cd\",how=\"left\")\n",
    "sub_df_1[\"jcoin_hub_types\"].fillna(\"not JCOIN\",inplace=True)\n",
    "sub_df_1[\"jcoin_hub_count\"].fillna(0,inplace=True)\n",
    "sub_df_1[\"is_jcoin_hub\"] = np.where(sub_df_1[\"jcoin_hub_types\"]==\"not JCOIN\",\"No\",\"Yes\")"
   ]
  },
  {
   "attachments": {},
   "cell_type": "markdown",
   "id": "a4bc39f6",
   "metadata": {},
   "source": [
    "### Data overview (counts and missing values)"
   ]
  },
  {
   "cell_type": "code",
   "execution_count": null,
   "id": "4756894e",
   "metadata": {},
   "outputs": [],
   "source": [
    "# o\tall: n/weighted n in genpop\n",
    "# o\tall:n/weighted n in as oversample\n",
    "# o\tall:n/weighted n in as oversample + gen pop(in oversampled state)\n",
    "# o\tper state: n/weighted n in as oversample\n",
    "# o\tmissingness; imputation procedures"
   ]
  },
  {
   "cell_type": "code",
   "execution_count": null,
   "id": "16d08751",
   "metadata": {},
   "outputs": [],
   "source": [
    "pop_counts_by_sampletypexstate = (\n",
    "    sub_df_1\n",
    "    .convert_dtypes()\n",
    "    .assign(jcoin_hub_count=lambda df: df.jcoin_hub_count.astype(str))\n",
    "    .groupby(['state_cd','p_over'])\n",
    "    [\"stigma_scale_score\"]\n",
    "    .count()\n",
    "    .unstack(['p_over'])\n",
    ")\n",
    "pop_counts_by_sampletypexstate[\"total\"] = pop_counts_by_sampletypexstate.sum(axis=1)"
   ]
  },
  {
   "cell_type": "code",
   "execution_count": null,
   "id": "fe63af94",
   "metadata": {},
   "outputs": [],
   "source": [
    "# merge jcoin info\n",
    "pop_counts_by_sampletypexstate = pop_counts_by_sampletypexstate\\\n",
    "    .merge(jcoin_df,on='state_cd',how='left')\\\n",
    "    .sort_values(\"total\",ascending=False)\\\n",
    "    .assign(\n",
    "        jcoin_hub_count=lambda df:df.jcoin_hub_count.fillna(0).astype(int),\n",
    "        jcoin_hub_types=lambda df:(\n",
    "            np.where(df.jcoin_hub_types.isna() & df[\"AS oversample\"]>0,\"non JCOIN comparison\",\n",
    "                np.where(df.jcoin_hub_types.isna(),\"non JCOIN gen pop\",df.jcoin_hub_types)\n",
    "        )\n",
    "        \n",
    "        ))"
   ]
  },
  {
   "cell_type": "code",
   "execution_count": null,
   "id": "b45d34c9",
   "metadata": {},
   "outputs": [],
   "source": [
    "print(\"N for Oversample, General and Total By State\")\n",
    "pop_counts_by_sampletypexstate\n"
   ]
  },
  {
   "cell_type": "code",
   "execution_count": null,
   "id": "9ad47a18",
   "metadata": {},
   "outputs": [],
   "source": [
    "print(\"N All\")\n",
    "pop_counts_by_sampletypexstate.sum().to_frame().T"
   ]
  },
  {
   "attachments": {},
   "cell_type": "markdown",
   "id": "d7b60bdb",
   "metadata": {},
   "source": [
    "### National estimates"
   ]
  },
  {
   "cell_type": "code",
   "execution_count": null,
   "id": "e6939ccf",
   "metadata": {},
   "outputs": [],
   "source": [
    "# parameters to be fed into the utils.bootstrap_pandas function\n",
    "\n",
    "# weight1 (no oversample)\n",
    "gen_pop_params = dict(varcol='stigma_scale_score',\n",
    "    weightcol=\"weight1\",\n",
    "    #instead of just np.mean (which throws a warning because of pandas), \n",
    "    # specify axis to work with multiple groups is in scipy\n",
    "    statistic=np.mean, \n",
    "    n_samples=5000,\n",
    "    confidence_level=.9,\n",
    "    digits=4)\n",
    "\n",
    "# weight2 (oversample)\n",
    "oversample_params = dict(gen_pop_params)\n",
    "oversample_params[\"weightcol\"] = \"weight2\""
   ]
  },
  {
   "cell_type": "code",
   "execution_count": null,
   "id": "064d6b83",
   "metadata": {},
   "outputs": [],
   "source": [
    "# o\ttable/bar: \n",
    "# \tpoint estimate + bootstrap CI; based on gen pop and weight1 \n",
    "# o\ttable/bar: \n",
    "# \tpoint estimate + bootstrap CI; based on as oversample + gen pop and weight 2\n",
    "# o\thistogram: \n",
    "# \tdistribution; based on as oversample + gen pop and weight 2\n",
    "# \tdistribution by personaluse_ever, familyuse_ever, personalcrimjust_ever, familycrimjust_ever; based on as oversample + gen pop and weight 2\n"
   ]
  },
  {
   "cell_type": "code",
   "execution_count": null,
   "id": "7514c6fb",
   "metadata": {},
   "outputs": [],
   "source": [
    "gen_pop_df = sub_df_1.loc[sub_df_1.p_over==\"Gen pop\"]\n",
    "oversampled_state_cds = sub_df_1.loc[sub_df_1.p_over==\"AS oversample\"][\"state_cd\"].unique()\n",
    "oversample_df = sub_df_1.loc[sub_df_1[\"state_cd\"].isin(oversampled_state_cds)]"
   ]
  },
  {
   "cell_type": "code",
   "execution_count": null,
   "id": "bf9b146c",
   "metadata": {},
   "outputs": [],
   "source": [
    "full_population_gen_pop_bootstrap_stats = bootstrap_pandas(\n",
    "    gen_pop_df,**gen_pop_params)\n",
    "\n",
    "full_population_with_oversample_bootstrap_stats = bootstrap_pandas(\n",
    "    oversample_df,**oversample_params)"
   ]
  },
  {
   "cell_type": "code",
   "execution_count": null,
   "id": "f1f47d1f",
   "metadata": {},
   "outputs": [],
   "source": [
    "sns.displot(full_population_gen_pop_bootstrap_stats[\"bootstrap_distribution\"],kde=True)"
   ]
  },
  {
   "cell_type": "code",
   "execution_count": null,
   "id": "be4abb83",
   "metadata": {},
   "outputs": [],
   "source": [
    "print(\"General Population\")\n",
    "pd.Series({x:full_population_gen_pop_bootstrap_stats[x] \n",
    "    for x in full_population_gen_pop_bootstrap_stats if x!=\"bootstrap_distribution\"}).to_frame().T"
   ]
  },
  {
   "cell_type": "code",
   "execution_count": null,
   "id": "160a6c7b",
   "metadata": {},
   "outputs": [],
   "source": [
    "print(\"Oversampled population\")\n",
    "pd.Series({x:full_population_with_oversample_bootstrap_stats[x] \n",
    "    for x in full_population_with_oversample_bootstrap_stats\n",
    "    if x!=\"bootstrap_distribution\"}).to_frame().T"
   ]
  },
  {
   "cell_type": "code",
   "execution_count": null,
   "id": "edd63d51",
   "metadata": {},
   "outputs": [],
   "source": [
    "# took 3m 22.5s with 5000 samples for 51 states\n",
    "state_bootstrap_stats = parallel_groupby_apply(\n",
    "    df=oversample_df,\n",
    "    groupby_name='state_cd',\n",
    "    func=bootstrap_pandas,\n",
    "    funcargs=oversample_params)\n",
    "state_bootstrap_stats_df = concat_groupby(state_bootstrap_stats)\n",
    "del state_bootstrap_stats # save space"
   ]
  },
  {
   "cell_type": "code",
   "execution_count": null,
   "id": "ed6f70ec",
   "metadata": {},
   "outputs": [],
   "source": [
    "state_bootstrap_stats_df.drop(columns=[\"bootstrap_distribution\"])"
   ]
  },
  {
   "cell_type": "code",
   "execution_count": null,
   "id": "9b326f1d",
   "metadata": {},
   "outputs": [],
   "source": [
    "state_bootstrap_stats_df.index.name = \"state_cd\"\n",
    "state_bootstrap_stats_df.reset_index(inplace=True)"
   ]
  },
  {
   "cell_type": "code",
   "execution_count": null,
   "id": "e438fb32",
   "metadata": {},
   "outputs": [],
   "source": [
    "# quick map of state level estimates\n",
    "\n",
    "fig = px.choropleth(state_bootstrap_stats_df,\n",
    "    locations=\"state_cd\",\n",
    "    locationmode=\"USA-states\",\n",
    "    scope=\"usa\",\n",
    "    color=\"mean\",\n",
    "    color_continuous_scale=\"Viridis_r\")\n",
    "\n",
    "fig.show()\n"
   ]
  },
  {
   "cell_type": "code",
   "execution_count": null,
   "id": "ff7f71ed",
   "metadata": {},
   "outputs": [],
   "source": [
    "state_bootstrap_stats_df"
   ]
  },
  {
   "cell_type": "code",
   "execution_count": null,
   "id": "9365d0f2",
   "metadata": {},
   "outputs": [],
   "source": [
    "def generate_bootstrap_plot(df):\n",
    "    plt.bar(\n",
    "        df[\"state_cd\"], df['mean'], \n",
    "        yerr=[\n",
    "            df['mean']-df[\"percentile_lower_ci\"], \n",
    "            df[\"percentile_upper_ci\"]-df['mean']], capsize=5)\n",
    "    plt.xticks(rotation=90)\n",
    "    plt.ylabel('Value')\n",
    "    plt.title('Estimated State Level Stigma by State')\n",
    "    plt.show()\n",
    "\n",
    "generate_bootstrap_plot(state_bootstrap_stats_df)"
   ]
  },
  {
   "cell_type": "markdown",
   "id": "6cabba9a-1be6-4169-b92f-d2e6aa28ba26",
   "metadata": {
    "tags": [
     "margin",
     "remove-input"
    ]
   },
   "source": [
    "```{margin} \n",
    "**To go to the data/study page on the HEAL Data Platform, follow this link:** my link\n",
    "```"
   ]
  },
  {
   "cell_type": "markdown",
   "id": "e1b9e924-0014-48c4-a7ad-f83be7a4c6bf",
   "metadata": {
    "tags": [
     "margin",
     "remove-input"
    ]
   },
   "source": [
    "```{margin} \n",
    "**To go to an interactive analytic cloud workspace with the analysis code and data loaded, follow this link:** my link\n",
    "```"
   ]
  },
  {
   "cell_type": "markdown",
   "id": "84d2a3f4-dee6-495f-ab56-f3b8da047719",
   "metadata": {
    "tags": [
     "remove-input"
    ]
   },
   "source": [
    "Lorem ipsum dolor sit amet, consectetur adipiscing elit, sed do eiusmod tempor incididunt ut labore et dolore magna aliqua. Sodales ut eu sem integer vitae justo eget. Pellentesque dignissim enim sit amet venenatis urna cursus. Sed faucibus turpis in eu mi bibendum. Scelerisque felis imperdiet proin fermentum leo. Volutpat est velit egestas dui id ornare arcu. Quis lectus nulla at volutpat diam ut venenatis tellus. Tellus pellentesque eu tincidunt tortor aliquam nulla facilisi cras. Pellentesque adipiscing commodo elit at imperdiet dui. \n",
    "<br>"
   ]
  },
  {
   "cell_type": "markdown",
   "id": "89360e25-0923-451a-bd3a-d6e4eb1e6f6d",
   "metadata": {
    "tags": [
     "remove-input"
    ]
   },
   "source": [
    "Lorem ipsum dolor sit amet, consectetur adipiscing elit, sed do eiusmod tempor incididunt ut labore et dolore magna aliqua. Sodales ut eu sem integer vitae justo eget. Pellentesque dignissim enim sit amet venenatis urna cursus. Sed faucibus turpis in eu mi bibendum. Scelerisque felis imperdiet proin fermentum leo. Volutpat est velit egestas dui id ornare arcu. Quis lectus nulla at volutpat diam ut venenatis tellus. Tellus pellentesque eu tincidunt tortor aliquam nulla facilisi cras. Pellentesque adipiscing commodo elit at imperdiet dui. \n",
    "<br><br>\n",
    "In hac habitasse platea dictumst quisque sagittis purus. Libero volutpat sed cras ornare. Sit amet consectetur adipiscing elit pellentesque habitant morbi tristique senectus. Auctor augue mauris augue neque gravida in fermentum et. Amet mattis vulputate enim nulla aliquet porttitor. Proin sed libero enim sed faucibus turpis in eu. Morbi tristique senectus et netus et malesuada. Feugiat sed lectus vestibulum mattis ullamcorper."
   ]
  },
  {
   "cell_type": "markdown",
   "id": "6e9be514-eb8f-4aa2-836f-854bd0ce1301",
   "metadata": {
    "tags": [
     "remove-input"
    ]
   },
   "source": [
    "**Data Citation** \n",
    "<br>\n",
    "Harold Pollack, Johnathon Schneider, Bruce Taylor. JCOIN 026: Brief Stigma Survey. Chicago, IL: Center for Translational Data Science HEAL Data Platform (distributor) via Center for Translational Data Science JCOIN Data Commons (repository & distributor), 2022-04-08. (HEAL Data Platform branded doi goes here)\n",
    "<br>\n",
    "**Brief Article Citation** \n",
    "<br>\n",
    "What format should this be? "
   ]
  }
 ],
 "metadata": {
  "kernelspec": {
   "display_name": "stigma_survey_p1_env",
   "language": "python",
   "name": "python3"
  },
  "language_info": {
   "codemirror_mode": {
    "name": "ipython",
    "version": 3
   },
   "file_extension": ".py",
   "mimetype": "text/x-python",
   "name": "python",
   "nbconvert_exporter": "python",
   "pygments_lexer": "ipython3",
   "version": "3.11.1"
  }
 },
 "nbformat": 4,
 "nbformat_minor": 5
}
