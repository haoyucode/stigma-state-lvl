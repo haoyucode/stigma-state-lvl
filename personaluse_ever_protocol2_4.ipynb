{
 "cells": [
  {
   "cell_type": "markdown",
   "id": "3c7ee545-94dc-4313-a611-0f6fc38b51d4",
   "metadata": {
    "tags": [
     "hide-input"
    ]
   },
   "source": [
    "# Stigma against Opioid Use Disorder varies by Personal Use status"
   ]
  },
  {
   "cell_type": "markdown",
   "id": "b33a0ab3-27a0-4d2c-9f3c-8bdd71b7a1c6",
   "metadata": {
    "tags": [
     "margin",
     "remove-input"
    ]
   },
   "source": [
    "```{margin} \n",
    "**To follow the full analysis, click through the hidden analysis code below**\n",
    "```"
   ]
  },
  {
   "cell_type": "code",
   "execution_count": null,
   "id": "98999284",
   "metadata": {},
   "outputs": [],
   "source": [
    "%matplotlib inline"
   ]
  },
  {
   "cell_type": "code",
   "execution_count": null,
   "id": "67b6df4a-6479-4274-aba2-34157f64eee6",
   "metadata": {
    "tags": [
     "hide-input",
     "margin"
    ]
   },
   "outputs": [],
   "source": [
    "# import packages\n",
    "import os\n",
    "import json\n",
    "from pathlib import Path\n",
    "import pandas as pd\n",
    "import numpy as np\n",
    "import pyreadstat\n",
    "import seaborn as sns\n",
    "import matplotlib.pyplot as plt\n",
    "import plotly.express as px\n",
    "from utils import *\n",
    "from samplics.estimation import TaylorEstimator\n",
    "pd.set_option('mode.chained_assignment', None)"
   ]
  },
  {
   "attachments": {},
   "cell_type": "markdown",
   "id": "512e17ab",
   "metadata": {},
   "source": [
    "### Data cleaning/pre-processing"
   ]
  },
  {
   "cell_type": "code",
   "execution_count": null,
   "id": "524ded81",
   "metadata": {},
   "outputs": [],
   "source": [
    "# inputs\n",
    "STATE_ABBREVIATIONS = \"state_abbrev_mappings.json\"\n",
    "DATAPATH = \"P:/3652/Common/HEAL/y3-task-c-collaborative-projects/jcoin-stigma/analyses/data/protocol2/\"\n",
    "DATA_FILE = DATAPATH+\"3645_JCOIN_HEAL Initiative 2021_NORC_Jan2022_1.sav\"\n",
    "STRATA_FILE = DATAPATH+\"VSTRAT_VPSU_Survey_2039_HEAL_MAIN_21_05_14.csv\""
   ]
  },
  {
   "cell_type": "code",
   "execution_count": null,
   "id": "df55a4f9-ad51-47dd-be63-e77890aa430c",
   "metadata": {
    "tags": [
     "hide-input",
     "margin"
    ]
   },
   "outputs": [],
   "source": [
    "# import data and metadata (data dictionaries)\n",
    "df, meta = pyreadstat.read_sav(DATA_FILE,apply_value_formats=True)\n"
   ]
  },
  {
   "cell_type": "code",
   "execution_count": null,
   "id": "8374382c",
   "metadata": {},
   "outputs": [],
   "source": [
    "\n",
    "# lower-case column names \n",
    "for df in [df]:\n",
    "    df.columns = df.columns.str.lower()"
   ]
  },
  {
   "cell_type": "code",
   "execution_count": null,
   "id": "94a607ed",
   "metadata": {},
   "outputs": [],
   "source": [
    "vars_of_interest = [\"caseid\",'p_over','weight1','weight2','stigma_scale_score','expanded_10item_stigma','state','age4','racethnicity','educ5','personaluse_ever','familyuse_ever','personalcrimjust_ever','familycrimjust_ever']\n",
    "categorical_vars = ['p_over','state','age4','racethnicity','educ5',\n",
    "    'personaluse_ever','familyuse_ever',\n",
    "    'personalcrimjust_ever','familycrimjust_ever']"
   ]
  },
  {
   "cell_type": "code",
   "execution_count": null,
   "id": "41e21360",
   "metadata": {},
   "outputs": [],
   "source": [
    "# narrow down the dataset to only a few interesting (and relatively clean, straightforward variables) - check for missingness and impute to fill in missing\n",
    "sub_df_1 = df[vars_of_interest]"
   ]
  },
  {
   "cell_type": "code",
   "execution_count": null,
   "id": "steady-filing",
   "metadata": {
    "tags": [
     "hide-input",
     "margin"
    ]
   },
   "outputs": [],
   "source": [
    "# clean up some of the categoricals to be consistently coded\n",
    "sub_df_1.familycrimjust_ever.replace({0:\"No\",1:\"Yes\"},inplace=True)\n",
    "sub_df_1.familyuse_ever.replace({\" No\":\"No\"},inplace=True)\n",
    "sub_df_1.personalcrimjust_ever.replace({\"Yes, ever arrested or incarcerated\":\"Yes\", \"No, never arrested or incarcerated\":\"No\"},inplace=True)\n"
   ]
  },
  {
   "cell_type": "code",
   "execution_count": null,
   "id": "89596f1a",
   "metadata": {},
   "outputs": [],
   "source": [
    "# check for missing \n",
    "\n",
    "print(sub_df_1.isnull().sum())\n"
   ]
  },
  {
   "cell_type": "code",
   "execution_count": null,
   "id": "31893278",
   "metadata": {},
   "outputs": [],
   "source": [
    "\n",
    "# impute any missing - confirm missing eliminated\n",
    "\n",
    "# # impute missing stigma scale score vals with median, impute missing personaluse_ever with mode, \"No\"\n",
    "\n",
    "# replace missing values of personaluse_ever with mode value of 'No'\n",
    "sub_df_1.personaluse_ever.fillna('No',inplace=True)\n",
    "#print(sub_df_1.isnull().sum())\n",
    "\n",
    "sub_df_1.familyuse_ever.fillna('No',inplace=True)\n",
    "#print(sub_df_1.isnull().sum())\n",
    "\n",
    "sub_df_1.personalcrimjust_ever.fillna('No',inplace=True)\n",
    "#print(sub_df_1.isnull().sum())\n",
    "\n",
    "sub_df_1.familycrimjust_ever.fillna('No',inplace=True)\n",
    "#print(sub_df_1.isnull().sum())\n",
    "\n",
    "\n",
    "# impute missing stigma scale score values as the median score \n",
    "#sub_df_1['stigma_scale_score'].fillna(sub_df_1.groupby('time-point')['stigma_scale_score'].transform('median'),inplace=True)\n",
    "sub_df_1['stigma_scale_score'].fillna(sub_df_1['stigma_scale_score'].median(),inplace=True)\n",
    "sub_df_1['expanded_10item_stigma'].fillna(sub_df_1['expanded_10item_stigma'].median(),inplace=True)\n",
    "\n",
    "print(sub_df_1.isnull().sum())"
   ]
  },
  {
   "cell_type": "code",
   "execution_count": null,
   "id": "61f0175c",
   "metadata": {},
   "outputs": [],
   "source": [
    "# add df column with state 2 letter code\n",
    "# https://pythonfix.com/code/us-states-abbrev.py/\n",
    "# state name to two letter code dictionary\n",
    "us_state_to_abbrev = json.loads(Path(STATE_ABBREVIATIONS).read_text())\n",
    "state_cd = sub_df_1.state.replace(us_state_to_abbrev)\n",
    "sub_df_1.insert(6,\"state_cd\",state_cd,True)"
   ]
  },
  {
   "cell_type": "code",
   "execution_count": null,
   "id": "8ae89ce6",
   "metadata": {},
   "outputs": [],
   "source": [
    "# Add jcoin information\n",
    "jcoin_json = json.loads(Path(\"jcoin_states.json\").read_text())\n",
    "\n",
    "jcoin_df = (pd.DataFrame(jcoin_json)\n",
    "    .assign(hub_types=lambda df:df[\"hub\"]+\"(\"+df[\"type\"]+\")\")\n",
    "    .groupby('states')\n",
    "    # make a list of the name and type of hub/study and how many hubs are in that state\n",
    "    .agg({\"hub_types\":lambda s:\",\".join(s),\"hub\":\"count\"})\n",
    "    .reset_index()\n",
    "    .rename(\n",
    "        columns={\"states\":\"state_cd\",\n",
    "        \"hub\":\"jcoin_hub_count\",\n",
    "        \"hub_types\":\"jcoin_hub_types\"})\n",
    ")\n",
    "\n",
    "jcoin_df[\"jcoin_flag\"] = 1"
   ]
  },
  {
   "cell_type": "code",
   "execution_count": null,
   "id": "2010c0a7",
   "metadata": {},
   "outputs": [],
   "source": [
    "jcoin_df.head()"
   ]
  },
  {
   "cell_type": "code",
   "execution_count": null,
   "id": "c68029c6",
   "metadata": {},
   "outputs": [],
   "source": [
    "sub_df_1 = sub_df_1.merge(jcoin_df,on=\"state_cd\",how=\"left\")\n",
    "sub_df_1[\"jcoin_hub_types\"].fillna(\"not JCOIN\",inplace=True)\n",
    "sub_df_1[\"jcoin_hub_count\"].fillna(0,inplace=True)\n",
    "sub_df_1[\"jcoin_flag\"].fillna(0,inplace=True)\n",
    "sub_df_1[\"is_jcoin_hub\"] = np.where(sub_df_1[\"jcoin_hub_types\"]==\"not JCOIN\",\"No\",\"Yes\")\n",
    "sub_df_1.head()"
   ]
  },
  {
   "cell_type": "code",
   "execution_count": null,
   "id": "4756894e",
   "metadata": {},
   "outputs": [],
   "source": [
    "# o\tall: n/weighted n in genpop\n",
    "# o\tall:n/weighted n in as oversample\n",
    "# o\tall:n/weighted n in as oversample + gen pop(in oversampled state)\n",
    "# o\tper state: n/weighted n in as oversample\n",
    "# o\tmissingness; imputation procedures"
   ]
  },
  {
   "cell_type": "code",
   "execution_count": null,
   "id": "16d08751",
   "metadata": {},
   "outputs": [],
   "source": [
    "pop_counts_by_sampletypexstate = (\n",
    "    sub_df_1\n",
    "    .convert_dtypes()\n",
    "    .assign(jcoin_hub_count=lambda df: df.jcoin_hub_count.astype(str))\n",
    "    .groupby(['state_cd','p_over'])\n",
    "    [\"stigma_scale_score\"]\n",
    "    .count()\n",
    "    .unstack(['p_over'])\n",
    ")\n",
    "pop_counts_by_sampletypexstate[\"total\"] = pop_counts_by_sampletypexstate.sum(axis=1)"
   ]
  },
  {
   "cell_type": "code",
   "execution_count": null,
   "id": "fe63af94",
   "metadata": {},
   "outputs": [],
   "source": [
    "# merge jcoin info\n",
    "pop_counts_by_sampletypexstate = pop_counts_by_sampletypexstate\\\n",
    "    .merge(jcoin_df,on='state_cd',how='left')\\\n",
    "    .sort_values(\"total\",ascending=False)\\\n",
    "    .assign(\n",
    "        jcoin_hub_count=lambda df:df.jcoin_hub_count.fillna(0).astype(int),\n",
    "        jcoin_flag=lambda df:df.jcoin_flag.fillna(0).astype(int),\n",
    "        jcoin_hub_types=lambda df:(\n",
    "            np.where(df.jcoin_hub_types.isna() & df[\"AS oversample\"]>0,\"non JCOIN comparison\",\n",
    "                np.where(df.jcoin_hub_types.isna(),\"non JCOIN gen pop\",df.jcoin_hub_types)\n",
    "        )\n",
    "        \n",
    "        ))"
   ]
  },
  {
   "cell_type": "code",
   "execution_count": null,
   "id": "b45d34c9",
   "metadata": {},
   "outputs": [],
   "source": [
    "print(\"N for Oversample, General and Total By State\")\n",
    "pop_counts_by_sampletypexstate.reset_index()\n",
    "\n",
    "pop_counts_by_sampletypexstate.to_csv(\"state_counts.csv\")\n"
   ]
  },
  {
   "cell_type": "code",
   "execution_count": null,
   "id": "9ad47a18",
   "metadata": {},
   "outputs": [],
   "source": [
    "print(\"N All\")\n",
    "pop_counts_by_sampletypexstate.sum().to_frame().T"
   ]
  },
  {
   "attachments": {},
   "cell_type": "markdown",
   "id": "d7b60bdb",
   "metadata": {},
   "source": [
    "### National estimates"
   ]
  },
  {
   "cell_type": "markdown",
   "id": "b61bf805",
   "metadata": {},
   "source": [
    "### Add and correct strata and PSUs necessary for variance estimation "
   ]
  },
  {
   "cell_type": "code",
   "execution_count": null,
   "id": "c5e65458",
   "metadata": {},
   "outputs": [],
   "source": [
    "strata_df = pd.read_csv(STRATA_FILE)\n",
    "strata_df.columns = strata_df.columns.str.lower()\n",
    "\n",
    "def \n",
    "# collapse strata containing only 1 PSU\n",
    "onepsu = (\n",
    "    strata_df[[\"vstrat32\",\"vpsu32\"]]\n",
    "    .drop_duplicates()\n",
    "    .groupby(\"vstrat32\")\n",
    "    .count()\n",
    "    .squeeze()\n",
    "    .loc[lambda s:s==1]\n",
    "    .index\n",
    ")\n",
    "strata_df[\"vstrat32_corrected\"] = strata_df[\"vstrat32\"].where(cond=lambda s:~s.isin(onepsu),other=-1)\n",
    "# rename PSUs so no duplicates\n",
    "strata_df[\"vpsu32_corrected\"] = strata_df.groupby([\"vstrat32_corrected\",\"vpsu32\"]).ngroup()"
   ]
  },
  {
   "cell_type": "code",
   "execution_count": null,
   "id": "d9cebb73",
   "metadata": {},
   "outputs": [],
   "source": [
    "sub_df_1 = sub_df_1.set_index(\"caseid\").join(strata_df.set_index('caseid'))"
   ]
  },
  {
   "cell_type": "code",
   "execution_count": null,
   "id": "76d73c86",
   "metadata": {},
   "outputs": [],
   "source": [
    "sub_df_1.loc[lambda df:df[\"vstrat32_corrected\"]==152]"
   ]
  },
  {
   "cell_type": "code",
   "execution_count": null,
   "id": "187e9261",
   "metadata": {},
   "outputs": [],
   "source": [
    "pd.DataFrame.drop_duplicates?"
   ]
  },
  {
   "cell_type": "code",
   "execution_count": null,
   "id": "0146d008",
   "metadata": {},
   "outputs": [],
   "source": [
    "sub_df_1.filter(regex=\"strat.*correct|p_over\").drop_duplicates(ignore_index=True).groupby(\"vstrat32_corrected\")[\"p_over\"].count().value_counts()"
   ]
  },
  {
   "attachments": {},
   "cell_type": "markdown",
   "id": "a4bc39f6",
   "metadata": {},
   "source": [
    "### Data overview (counts and missing values)"
   ]
  },
  {
   "cell_type": "code",
   "execution_count": null,
   "id": "e6939ccf",
   "metadata": {},
   "outputs": [],
   "source": [
    "# parameters to be fed into the utils.bootstrap_pandas function\n",
    "\n",
    "# weight1 (no oversample)\n",
    "gen_pop_params = dict(varcol='stigma_scale_score',\n",
    "    weightcol=\"weight1\",\n",
    "    #instead of just np.mean (which throws a warning because of pandas), \n",
    "    # specify axis to work with multiple groups is in scipy\n",
    "    statistic=np.mean, \n",
    "    n_samples=5000,\n",
    "    confidence_level=.9,\n",
    "    digits=4)\n",
    "\n",
    "# weight2 (oversample)\n",
    "oversample_params = dict(gen_pop_params)\n",
    "oversample_params[\"weightcol\"] = \"weight2\""
   ]
  },
  {
   "cell_type": "code",
   "execution_count": null,
   "id": "064d6b83",
   "metadata": {},
   "outputs": [],
   "source": [
    "# o\ttable/bar: \n",
    "# \tpoint estimate + bootstrap CI; based on gen pop and weight1 \n",
    "# o\ttable/bar: \n",
    "# \tpoint estimate + bootstrap CI; based on as oversample + gen pop and weight 2\n",
    "# o\thistogram: \n",
    "# \tdistribution; based on as oversample + gen pop and weight 2\n",
    "# \tdistribution by personaluse_ever, familyuse_ever, personalcrimjust_ever, familycrimjust_ever; based on as oversample + gen pop and weight 2\n"
   ]
  },
  {
   "cell_type": "code",
   "execution_count": null,
   "id": "a0dcca2e",
   "metadata": {},
   "outputs": [],
   "source": [
    "TaylorEstimator?"
   ]
  },
  {
   "cell_type": "code",
   "execution_count": null,
   "id": "4f9d66a5",
   "metadata": {},
   "outputs": [],
   "source": [
    "sample_estimator = TaylorEstimator(\"mean\")\n",
    "sample_estimator.estimate(\n",
    "    y=sub_df_1[\"stigma_scale_score\"],\n",
    "    samp_weight=sub_df_1[\"weight2\"],\n",
    "    stratum=sub_df_1[\"vstrat32_corrected\"],\n",
    "    psu=sub_df_1[\"vpsu32_corrected\"],\n",
    ")\n",
    "sample_estimator.to_dataframe()"
   ]
  },
  {
   "cell_type": "code",
   "execution_count": null,
   "id": "c8e2a8fc",
   "metadata": {},
   "outputs": [],
   "source": [
    "state_estimator = TaylorEstimator(\"mean\")\n",
    "state_estimator.estimate(\n",
    "    y=sub_df_1[\"stigma_scale_score\"],\n",
    "    samp_weight=sub_df_1[\"weight2\"],\n",
    "    stratum=sub_df_1[\"vstrat32_corrected\"],\n",
    "    psu=sub_df_1[\"vpsu32_corrected\"],\n",
    "    domain=sub_df_1[\"state\"]\n",
    ")\n",
    "state_estimator.to_dataframe()"
   ]
  },
  {
   "cell_type": "code",
   "execution_count": null,
   "id": "e438fb32",
   "metadata": {},
   "outputs": [],
   "source": [
    "# quick map of state level estimates\n",
    "\n",
    "fig = px.choropleth(state_bootstrap_stats_df,\n",
    "    locations=\"state_cd\",\n",
    "    locationmode=\"USA-states\",\n",
    "    scope=\"usa\",\n",
    "    color=\"mean\",\n",
    "    color_continuous_scale=\"Viridis_r\")\n",
    "\n",
    "fig.show()\n"
   ]
  },
  {
   "cell_type": "code",
   "execution_count": null,
   "id": "1f4c7d9f",
   "metadata": {},
   "outputs": [],
   "source": [
    "# merge jcoin info\n",
    "state_bootstrap_stats_df = state_bootstrap_stats_df\\\n",
    "    .merge(jcoin_df,on='state_cd',how='left')\\\n",
    "    .sort_values(\"mean\",ascending=False)\\\n",
    "    .assign(\n",
    "        jcoin_hub_count=lambda df:df.jcoin_hub_count.fillna(0).astype(int),\n",
    "        jcoin_flag=lambda df:df.jcoin_flag.fillna(0).astype(int))\n",
    "\n",
    "state_bootstrap_stats_df[\"jcoin_color\"] = state_bootstrap_stats_df.jcoin_flag\n",
    "state_bootstrap_stats_df.jcoin_color.replace({0:\"blue\",1:\"red\"},inplace=True)\n",
    "\n",
    "\n",
    "state_bootstrap_stats_df.head()"
   ]
  },
  {
   "cell_type": "code",
   "execution_count": null,
   "id": "9365d0f2",
   "metadata": {},
   "outputs": [],
   "source": [
    "def generate_bootstrap_plot(df):\n",
    "    plt.bar(\n",
    "        df[\"state_cd\"], sorted(df['mean']), \n",
    "        color = df[\"jcoin_color\"],\n",
    "        yerr=[\n",
    "            df['mean']-df[\"percentile_lower_ci\"], \n",
    "            df[\"percentile_upper_ci\"]-df['mean']], capsize=5),\n",
    "    plt.xticks(rotation=90)\n",
    "    plt.ylabel('Value')\n",
    "    plt.title('Estimated State Level Stigma by State')\n",
    "    plt.show()\n",
    "\n",
    "generate_bootstrap_plot(state_bootstrap_stats_df)"
   ]
  },
  {
   "cell_type": "markdown",
   "id": "6cabba9a-1be6-4169-b92f-d2e6aa28ba26",
   "metadata": {
    "tags": [
     "margin",
     "remove-input"
    ]
   },
   "source": [
    "```{margin} \n",
    "**To go to the data/study page on the HEAL Data Platform, follow this link:** my link\n",
    "```"
   ]
  },
  {
   "cell_type": "markdown",
   "id": "e1b9e924-0014-48c4-a7ad-f83be7a4c6bf",
   "metadata": {
    "tags": [
     "margin",
     "remove-input"
    ]
   },
   "source": [
    "```{margin} \n",
    "**To go to an interactive analytic cloud workspace with the analysis code and data loaded, follow this link:** my link\n",
    "```"
   ]
  },
  {
   "cell_type": "markdown",
   "id": "84d2a3f4-dee6-495f-ab56-f3b8da047719",
   "metadata": {
    "tags": [
     "remove-input"
    ]
   },
   "source": [
    "Lorem ipsum dolor sit amet, consectetur adipiscing elit, sed do eiusmod tempor incididunt ut labore et dolore magna aliqua. Sodales ut eu sem integer vitae justo eget. Pellentesque dignissim enim sit amet venenatis urna cursus. Sed faucibus turpis in eu mi bibendum. Scelerisque felis imperdiet proin fermentum leo. Volutpat est velit egestas dui id ornare arcu. Quis lectus nulla at volutpat diam ut venenatis tellus. Tellus pellentesque eu tincidunt tortor aliquam nulla facilisi cras. Pellentesque adipiscing commodo elit at imperdiet dui. \n",
    "<br>"
   ]
  },
  {
   "cell_type": "markdown",
   "id": "89360e25-0923-451a-bd3a-d6e4eb1e6f6d",
   "metadata": {
    "tags": [
     "remove-input"
    ]
   },
   "source": [
    "Lorem ipsum dolor sit amet, consectetur adipiscing elit, sed do eiusmod tempor incididunt ut labore et dolore magna aliqua. Sodales ut eu sem integer vitae justo eget. Pellentesque dignissim enim sit amet venenatis urna cursus. Sed faucibus turpis in eu mi bibendum. Scelerisque felis imperdiet proin fermentum leo. Volutpat est velit egestas dui id ornare arcu. Quis lectus nulla at volutpat diam ut venenatis tellus. Tellus pellentesque eu tincidunt tortor aliquam nulla facilisi cras. Pellentesque adipiscing commodo elit at imperdiet dui. \n",
    "<br><br>\n",
    "In hac habitasse platea dictumst quisque sagittis purus. Libero volutpat sed cras ornare. Sit amet consectetur adipiscing elit pellentesque habitant morbi tristique senectus. Auctor augue mauris augue neque gravida in fermentum et. Amet mattis vulputate enim nulla aliquet porttitor. Proin sed libero enim sed faucibus turpis in eu. Morbi tristique senectus et netus et malesuada. Feugiat sed lectus vestibulum mattis ullamcorper."
   ]
  },
  {
   "cell_type": "markdown",
   "id": "6e9be514-eb8f-4aa2-836f-854bd0ce1301",
   "metadata": {
    "tags": [
     "remove-input"
    ]
   },
   "source": [
    "**Data Citation** \n",
    "<br>\n",
    "Harold Pollack, Johnathon Schneider, Bruce Taylor. JCOIN 026: Brief Stigma Survey. Chicago, IL: Center for Translational Data Science HEAL Data Platform (distributor) via Center for Translational Data Science JCOIN Data Commons (repository & distributor), 2022-04-08. (HEAL Data Platform branded doi goes here)\n",
    "<br>\n",
    "**Brief Article Citation** \n",
    "<br>\n",
    "What format should this be? "
   ]
  }
 ],
 "metadata": {
  "kernelspec": {
   "display_name": "stigma_survey_p1_env",
   "language": "python",
   "name": "python3"
  },
  "language_info": {
   "codemirror_mode": {
    "name": "ipython",
    "version": 3
   },
   "file_extension": ".py",
   "mimetype": "text/x-python",
   "name": "python",
   "nbconvert_exporter": "python",
   "pygments_lexer": "ipython3",
   "version": "3.11.4"
  }
 },
 "nbformat": 4,
 "nbformat_minor": 5
}
