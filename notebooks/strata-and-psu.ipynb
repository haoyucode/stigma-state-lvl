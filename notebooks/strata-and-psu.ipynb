{
 "cells": [
  {
   "attachments": {},
   "cell_type": "markdown",
   "id": "3c7ee545-94dc-4313-a611-0f6fc38b51d4",
   "metadata": {
    "tags": [
     "hide-input"
    ]
   },
   "source": [
    "# JCOIN Stigma Survey Protocol 2: Strata and PSU inputs provided by Amerispeak\n",
    "\n"
   ]
  },
  {
   "cell_type": "markdown",
   "id": "75d00685",
   "metadata": {},
   "source": [
    "- exploring psu and strata provided by Amerispeak for estimation of variance\n",
    "\n",
    "1.\tYou fill find that PSU=1 and 2 and some other low numbers would be found in many strata. This is because SAS is lenient on repeated PSU ids, I don’t know if samplics is going to be, so you would be better off `df[‘ultimate_psu’]=df.groupby([‘vstrata’,’vpsu’]).ngroup()`` or df[‘ultimate_psu’]=df[‘vstrata’]*1000 + df[‘vpsu’]\n",
    "2.\tYou will almost inevitably find that some strata or some PSU that have only one observation. At the stage of calculating standard errors, these will result in 0/0 (residual sum of squares / n-1 within stratum), and will likely result in NULLs or NAs in the output, and/or error messages that talk about singleton PSU or one PSU per stratum or something like that (unless Mamadou Diallo decided to invent his own terminology for this problem, like he did with some other concepts). The standard hack is to combine the strata so the one-PSU-per-stratum never happens. What I would do is to identify all the strata with a single PSU, and combine them into one fake stratum. This is a conservative step that increases the standard errors by a tiny amount – you would probably have 10 to 20 cases like that out of your 6K, so the impact they would have is basically a fraction of 20/6000. Better than having missing standard errors.\n"
   ]
  },
  {
   "cell_type": "code",
   "execution_count": null,
   "id": "67b6df4a-6479-4274-aba2-34157f64eee6",
   "metadata": {
    "tags": [
     "hide-input",
     "margin"
    ]
   },
   "outputs": [],
   "source": [
    "# import packages\n",
    "import pandas as pd\n",
    "import numpy as np\n",
    "import pyreadstat\n",
    "from ydata_profiling import ProfileReport"
   ]
  },
  {
   "cell_type": "code",
   "execution_count": null,
   "id": "524ded81",
   "metadata": {},
   "outputs": [],
   "source": [
    "DATAPATH = \"P:/3652/Common/HEAL/y3-task-c-collaborative-projects/jcoin-stigma/analyses/data/protocol2/\"\n",
    "\n",
    "DATA_FILE = DATAPATH+\"3645_JCOIN_HEAL Initiative 2021_NORC_Jan2022_1.sav\"\n",
    "STRATA_FILE = DATAPATH+\"VSTRAT_VPSU_Survey_2039_HEAL_MAIN_21_05_14.csv\""
   ]
  },
  {
   "cell_type": "code",
   "execution_count": null,
   "id": "1d091337",
   "metadata": {},
   "outputs": [],
   "source": [
    "strata_df = pd.read_csv(STRATA_FILE)\n",
    "strata_df.columns = strata_df.columns.str.lower()\n",
    "strata_df.set_index(\"caseid\")"
   ]
  },
  {
   "cell_type": "code",
   "execution_count": null,
   "id": "e01fdc58",
   "metadata": {},
   "outputs": [],
   "source": [
    "# number of one obs strata -- need to combine these two one strata\n",
    "strata_df.groupby(['vstrat32'])[\"caseid\"].count().pipe(lambda df:df==1).agg([\"sum\",\"count\"])"
   ]
  },
  {
   "cell_type": "code",
   "execution_count": null,
   "id": "c8377b5c",
   "metadata": {},
   "outputs": [],
   "source": [
    "strata_df[\"vstrat32\"].value_counts()>1"
   ]
  },
  {
   "cell_type": "code",
   "execution_count": null,
   "id": "de00f9bd",
   "metadata": {},
   "outputs": [],
   "source": [
    "oneobs = strata_df.vstrat32.value_counts().loc[lambda s:s==1]\n",
    "strata_df[\"vstrat32_corrected\"] = strata_df[\"vstrat32\"].where(cond=lambda s:~s.isin(oneobs.index),other=-1)"
   ]
  },
  {
   "cell_type": "code",
   "execution_count": null,
   "id": "c0cc210a",
   "metadata": {},
   "outputs": [],
   "source": [
    "strata_df[\"vstrat32_corrected\"].pipe(lambda s:s==-1).sum()"
   ]
  },
  {
   "cell_type": "code",
   "execution_count": null,
   "id": "27b2ae8d",
   "metadata": {},
   "outputs": [],
   "source": [
    "strata_df[\"vpsu32_corrected\"] = strata_df.groupby([\"vstrat32_corrected\",\"vpsu32\"]).ngroup()"
   ]
  },
  {
   "cell_type": "code",
   "execution_count": null,
   "id": "df55a4f9-ad51-47dd-be63-e77890aa430c",
   "metadata": {
    "tags": [
     "hide-input",
     "margin"
    ]
   },
   "outputs": [],
   "source": [
    "# import data and metadata (data dictionaries)\n",
    "df, meta = pyreadstat.read_sav(DATA_FILE,apply_value_formats=True)\n",
    "df.columns = df.columns.str.lower()\n"
   ]
  },
  {
   "cell_type": "code",
   "execution_count": null,
   "id": "cde77f33",
   "metadata": {},
   "outputs": [],
   "source": [
    "ProfileReport(\n",
    "    sub_df_1.filter(regex=\"^strata\"),\n",
    "    sensitive=True,\n",
    "    samples=None,\n",
    "    correlations=None,\n",
    "    missing_diagrams=None,\n",
    "    duplicates=None,\n",
    "    interactions=None,)"
   ]
  },
  {
   "cell_type": "code",
   "execution_count": null,
   "id": "c09a0aa3",
   "metadata": {},
   "outputs": [],
   "source": []
  }
 ],
 "metadata": {
  "kernelspec": {
   "display_name": "stigma_survey_p1_env",
   "language": "python",
   "name": "python3"
  },
  "language_info": {
   "codemirror_mode": {
    "name": "ipython",
    "version": 3
   },
   "file_extension": ".py",
   "mimetype": "text/x-python",
   "name": "python",
   "nbconvert_exporter": "python",
   "pygments_lexer": "ipython3",
   "version": "3.11.1"
  }
 },
 "nbformat": 4,
 "nbformat_minor": 5
}
