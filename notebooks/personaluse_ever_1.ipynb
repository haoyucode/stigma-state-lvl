{
 "cells": [
  {
   "cell_type": "markdown",
   "id": "3c7ee545-94dc-4313-a611-0f6fc38b51d4",
   "metadata": {
    "tags": [
     "hide-input"
    ]
   },
   "source": [
    "# Stigma against Opioid Use Disorder varies by Personal Use status"
   ]
  },
  {
   "cell_type": "markdown",
   "id": "b33a0ab3-27a0-4d2c-9f3c-8bdd71b7a1c6",
   "metadata": {
    "tags": [
     "margin",
     "remove-input"
    ]
   },
   "source": [
    "```{margin} \n",
    "**To follow the full analysis, click through the hidden analysis code below**\n",
    "```"
   ]
  },
  {
   "cell_type": "code",
   "execution_count": null,
   "id": "67b6df4a-6479-4274-aba2-34157f64eee6",
   "metadata": {
    "tags": [
     "hide-input",
     "margin"
    ]
   },
   "outputs": [],
   "source": [
    "# import packages\n",
    "import os\n",
    "import pandas as pd\n",
    "import numpy as np\n",
    "import pyreadstat\n",
    "import seaborn as sns\n",
    "import matplotlib.pyplot as plt\n",
    "\n",
    "pd.set_option('mode.chained_assignment', None)"
   ]
  },
  {
   "cell_type": "code",
   "execution_count": null,
   "id": "df55a4f9-ad51-47dd-be63-e77890aa430c",
   "metadata": {
    "tags": [
     "hide-input",
     "margin"
    ]
   },
   "outputs": [],
   "source": [
    "# import data and metadata (data dictionaries)\n",
    "os.chdir(\"P:/3652/Common/HEAL/Data-and-analytics/stigma-surveys/protocol-1/data-for-sharing/heal/\")\n",
    "\n",
    "# import data\n",
    "df1 = pd.read_csv(\"jcoin_norc_omnibus_survey1_feb2020_072821-data.tsv\", sep='\\t')\n",
    "df2 = pd.read_csv(\"jcoin_norc_omnibus_survey2_april2020_072821-data.tsv\", sep='\\t')\n",
    "df3 = pd.read_csv(\"jcoin_norc_omnibus_survey3_june2020_072821-data.tsv\", sep='\\t')\n",
    "df4 = pd.read_csv(\"jcoin_norc_omnibus_survey4_oct2020_072821-data.tsv\", sep='\\t')\n",
    "\n",
    "# import metadata (data dictionaries)\n",
    "meta1 = pd.read_csv(\"jcoin_norc_omnibus_survey1_feb2020_072821-data_dictionary.tsv\", sep='\\t')\n",
    "meta2 = pd.read_csv(\"jcoin_norc_omnibus_survey2_april2020_072821-data_dictionary.tsv\", sep='\\t')\n",
    "meta3 = pd.read_csv(\"jcoin_norc_omnibus_survey3_june2020_072821-data_dictionary.tsv\", sep='\\t')\n",
    "meta4 = pd.read_csv(\"jcoin_norc_omnibus_survey4_oct2020_072821-data_dictionary.tsv\", sep='\\t')"
   ]
  },
  {
   "cell_type": "code",
   "execution_count": null,
   "id": "93ecaa4e-433d-417d-a3a6-384081b42a1e",
   "metadata": {
    "tags": [
     "hide-input",
     "margin"
    ]
   },
   "outputs": [],
   "source": [
    "# narrow down the dataset to only variables that are collected at each of the time-points\n",
    "\n",
    "# standardize column names across datasets and metadatasets\n",
    "for df in [df1, df2, df3, df4]:\n",
    "    df.columns = df.columns.str.lower()\n",
    "    \n",
    "for meta in [meta1, meta2, meta3, meta4]:\n",
    "    meta.name = meta.name.str.lower()  \n",
    "    \n",
    "# combine data from all surveys into one long dataset, keeping only vars available across all survey datasets (time-points)\n",
    "all_df = pd.concat([df1, df2, df3, df4], keys=['feb2020','apr2020','jun2020','oct2020'], join=\"inner\").reset_index().rename(columns={\"level_0\": \"time-point\"})\n",
    "\n",
    "# combine metadata (data dictionaries) from all surveys into one long metadataset (data dictionary), keeping only vars available across all survey datasets\n",
    "# stacking these and sorting by variable name allow the data user to compare the variable description acrosss time-points to ensure they are consistent, or alert the data-user to inconsistencies in variable description/definition across time-points \n",
    "all_meta = pd.concat([meta1, meta2, meta3, meta4], keys=['feb2020','apr2020','jun2020','oct2020'], join=\"inner\").reset_index().rename(columns={\"level_0\": \"time-point\"})\n",
    "all_meta = all_meta[all_meta['name'].isin(all_df.columns)].sort_values(by = ['name']) "
   ]
  },
  {
   "cell_type": "code",
   "execution_count": null,
   "id": "steady-filing",
   "metadata": {
    "tags": [
     "hide-input",
     "margin"
    ]
   },
   "outputs": [],
   "source": [
    "# narrow down the dataset to only a few interesting (and relatively clean, straightforward variables) - check for missingness and impute to fill in missing\n",
    "\n",
    "# get subset of interesting variables\n",
    "sub_df_1 = all_df[['time-point','weight','stigma_scale_score','age4','region4','personaluse_ever']]\n",
    "\n",
    "# check for missing, impute missing stigma scale score vals with median per timepoint, impute missing personaluse_ever with mode, \"No\"\n",
    "\n",
    "# check if missing values\n",
    "sub_df_1.isnull().sum()\n",
    "\n",
    "# get all var types\n",
    "#sub_df_1.info()\n",
    "\n",
    "# summary of numeric vars (weight and stigma_scale_score)\n",
    "sub_df_1.describe()\n",
    "\n",
    "# summary of cat vars (age4, region9, personaluse_ever)\n",
    "sub_df_1.age4.value_counts(dropna=False)\n",
    "\n",
    "# summary of cat vars (age4, region9, personaluse_ever)\n",
    "sub_df_1.region4.value_counts(dropna=False)\n",
    "\n",
    "# summary of cat vars (age4, region9, personaluse_ever)\n",
    "sub_df_1.personaluse_ever.value_counts(dropna=False)\n",
    "\n",
    "# impute missing stigma scale score values as the median score by survey time-point\n",
    "sub_df_1['stigma_scale_score'].fillna(sub_df_1.groupby('time-point')['stigma_scale_score'].transform('median'),inplace=True)\n",
    "sub_df_1.isnull().sum()\n",
    "\n",
    "# replace missing values of personaluse_ever with mode value of 'No'\n",
    "sub_df_1.personaluse_ever.fillna('No',inplace=True)\n",
    "#sub_df_1.isnull().sum()\n",
    "\n",
    "#sub_df_1"
   ]
  },
  {
   "cell_type": "code",
   "execution_count": null,
   "id": "round-wells",
   "metadata": {
    "tags": [
     "hide-input",
     "margin"
    ]
   },
   "outputs": [],
   "source": [
    "# define function to calculate weighted mean of across the full population for survey vars - necessary to properly weight in order to retain the validity of nationally representative survey sampling strategy \n",
    "\n",
    "# sum of weights will not be equal to count of individuals when we look at sub-groups of the full population; \n",
    "# will have to formally calculate weighted average\n",
    "def weighted_mean(x, **kws):\n",
    "    val, weight = map(np.asarray, zip(*x))\n",
    "    weighted_mean = (val * weight).sum() / weight.sum()\n",
    "    return (val * weight).sum() / weight.sum()\n",
    "\n",
    "sub_df_1[\"score_and_weight\"] = list(zip(sub_df_1.stigma_scale_score, sub_df_1.weight))"
   ]
  },
  {
   "cell_type": "code",
   "execution_count": null,
   "id": "c3ad661c-cc91-4ce8-a928-a36e6fabdb18",
   "metadata": {
    "tags": [
     "hide-input",
     "margin"
    ]
   },
   "outputs": [],
   "source": [
    "fig, (ax1, ax2) = plt.subplots(1, 2, sharey=True)\n",
    "fig.suptitle('Stigma Scale Score over time',fontsize='x-large',fontweight='bold')\n",
    "\n",
    "one = sns.lineplot(ax = ax1,\n",
    "             data = sub_df_1,\n",
    "             x = 'time-point',\n",
    "             y = 'score_and_weight',\n",
    "             estimator = weighted_mean\n",
    "             #hue = 'personaluse_ever'\n",
    "            )\n",
    "\n",
    "plt.draw()\n",
    "one.set_xticks(one.get_xticks())\n",
    "one.set_xticklabels(one.get_xticklabels(),rotation=45,horizontalalignment='right')\n",
    "#for tick in one.get_xticklabels():\n",
    "#    tick.set_rotation(45)\n",
    "    \n",
    "    \n",
    "ax1.set_title('Stigma Scale Score')\n",
    "ax1.set(ylabel='Stigma Scale Score')\n",
    "ax1.set(xlabel='')\n",
    "ax1.invert_yaxis()\n",
    "#ax1.set_xticks(ax1.get_xticks())  # just get and reset whatever you already have\n",
    "#one.set_xticklabels(one.get_xticklabels(),rotation=45,horizontalalignment='right')  # set the new/modified labels\n",
    "\n",
    "two = sns.lineplot(ax = ax2,\n",
    "             data = sub_df_1,\n",
    "             x = 'time-point',\n",
    "             y = 'score_and_weight',\n",
    "             hue = 'personaluse_ever',\n",
    "             estimator = weighted_mean\n",
    "            )\n",
    "\n",
    "plt.draw()\n",
    "two.set_xticks(two.get_xticks())\n",
    "two.set_xticklabels(two.get_xticklabels(),rotation=45,horizontalalignment='right')\n",
    "\n",
    "ax2.set_title('Stigma Scale Score\\nby Personal Use Status')\n",
    "ax2.set(xlabel='')\n",
    "ax2.invert_yaxis()\n",
    "\n",
    "legend2 = ax2.legend()\n",
    "#legend2.remove()\n",
    "\n",
    "#leg = ax2.legend(loc='center', bbox_to_anchor=(1.1, -0.25), shadow=False, ncol=2, frameon=False)\n",
    "\n",
    "plt.subplots_adjust(top=0.80)\n",
    "plt.show()"
   ]
  },
  {
   "cell_type": "markdown",
   "id": "6cabba9a-1be6-4169-b92f-d2e6aa28ba26",
   "metadata": {
    "tags": [
     "margin",
     "remove-input"
    ]
   },
   "source": [
    "```{margin} \n",
    "**To go to the data/study page on the HEAL Data Platform, follow this link:** my link\n",
    "```"
   ]
  },
  {
   "cell_type": "markdown",
   "id": "e1b9e924-0014-48c4-a7ad-f83be7a4c6bf",
   "metadata": {
    "tags": [
     "margin",
     "remove-input"
    ]
   },
   "source": [
    "```{margin} \n",
    "**To go to an interactive analytic cloud workspace with the analysis code and data loaded, follow this link:** my link\n",
    "```"
   ]
  },
  {
   "cell_type": "markdown",
   "id": "84d2a3f4-dee6-495f-ab56-f3b8da047719",
   "metadata": {
    "tags": [
     "remove-input"
    ]
   },
   "source": [
    "Lorem ipsum dolor sit amet, consectetur adipiscing elit, sed do eiusmod tempor incididunt ut labore et dolore magna aliqua. Sodales ut eu sem integer vitae justo eget. Pellentesque dignissim enim sit amet venenatis urna cursus. Sed faucibus turpis in eu mi bibendum. Scelerisque felis imperdiet proin fermentum leo. Volutpat est velit egestas dui id ornare arcu. Quis lectus nulla at volutpat diam ut venenatis tellus. Tellus pellentesque eu tincidunt tortor aliquam nulla facilisi cras. Pellentesque adipiscing commodo elit at imperdiet dui. \n",
    "<br>"
   ]
  },
  {
   "cell_type": "code",
   "execution_count": null,
   "id": "19603d20-965e-4480-9fa7-6cba2c2798dd",
   "metadata": {
    "tags": [
     "remove-input"
    ]
   },
   "outputs": [],
   "source": [
    "fig, (ax1, ax2) = plt.subplots(1, 2, sharey=True)\n",
    "fig.suptitle('Stigma Scale Score over time',fontsize='x-large',fontweight='bold')\n",
    "\n",
    "one = sns.lineplot(ax = ax1,\n",
    "             data = sub_df_1,\n",
    "             x = 'time-point',\n",
    "             y = 'score_and_weight',\n",
    "             estimator = weighted_mean\n",
    "             #hue = 'personaluse_ever'\n",
    "            )\n",
    "\n",
    "plt.draw()\n",
    "one.set_xticks(one.get_xticks())\n",
    "one.set_xticklabels(one.get_xticklabels(),rotation=45,horizontalalignment='right')\n",
    "#for tick in one.get_xticklabels():\n",
    "#    tick.set_rotation(45)\n",
    "    \n",
    "    \n",
    "ax1.set_title('Stigma Scale Score')\n",
    "ax1.set(ylabel='Stigma Scale Score')\n",
    "ax1.set(xlabel='')\n",
    "ax1.invert_yaxis()\n",
    "#ax1.set_xticks(ax1.get_xticks())  # just get and reset whatever you already have\n",
    "#one.set_xticklabels(one.get_xticklabels(),rotation=45,horizontalalignment='right')  # set the new/modified labels\n",
    "\n",
    "two = sns.lineplot(ax = ax2,\n",
    "             data = sub_df_1,\n",
    "             x = 'time-point',\n",
    "             y = 'score_and_weight',\n",
    "             hue = 'personaluse_ever',\n",
    "             estimator = weighted_mean\n",
    "            )\n",
    "\n",
    "plt.draw()\n",
    "two.set_xticks(two.get_xticks())\n",
    "two.set_xticklabels(two.get_xticklabels(),rotation=45,horizontalalignment='right')\n",
    "\n",
    "ax2.set_title('Stigma Scale Score\\nby Personal Use Status')\n",
    "ax2.set(xlabel='')\n",
    "ax2.invert_yaxis()\n",
    "\n",
    "legend2 = ax2.legend()\n",
    "#legend2.remove()\n",
    "\n",
    "#leg = ax2.legend(loc='center', bbox_to_anchor=(1.1, -0.25), shadow=False, ncol=2, frameon=False)\n",
    "\n",
    "plt.subplots_adjust(top=0.80)\n",
    "plt.show()"
   ]
  },
  {
   "cell_type": "markdown",
   "id": "89360e25-0923-451a-bd3a-d6e4eb1e6f6d",
   "metadata": {
    "tags": [
     "remove-input"
    ]
   },
   "source": [
    "Lorem ipsum dolor sit amet, consectetur adipiscing elit, sed do eiusmod tempor incididunt ut labore et dolore magna aliqua. Sodales ut eu sem integer vitae justo eget. Pellentesque dignissim enim sit amet venenatis urna cursus. Sed faucibus turpis in eu mi bibendum. Scelerisque felis imperdiet proin fermentum leo. Volutpat est velit egestas dui id ornare arcu. Quis lectus nulla at volutpat diam ut venenatis tellus. Tellus pellentesque eu tincidunt tortor aliquam nulla facilisi cras. Pellentesque adipiscing commodo elit at imperdiet dui. \n",
    "<br><br>\n",
    "In hac habitasse platea dictumst quisque sagittis purus. Libero volutpat sed cras ornare. Sit amet consectetur adipiscing elit pellentesque habitant morbi tristique senectus. Auctor augue mauris augue neque gravida in fermentum et. Amet mattis vulputate enim nulla aliquet porttitor. Proin sed libero enim sed faucibus turpis in eu. Morbi tristique senectus et netus et malesuada. Feugiat sed lectus vestibulum mattis ullamcorper."
   ]
  },
  {
   "cell_type": "markdown",
   "id": "6e9be514-eb8f-4aa2-836f-854bd0ce1301",
   "metadata": {
    "tags": [
     "remove-input"
    ]
   },
   "source": [
    "**Data Citation** \n",
    "<br>\n",
    "Harold Pollack, Johnathon Schneider, Bruce Taylor. JCOIN 026: Brief Stigma Survey. Chicago, IL: Center for Translational Data Science HEAL Data Platform (distributor) via Center for Translational Data Science JCOIN Data Commons (repository & distributor), 2022-04-08. (HEAL Data Platform branded doi goes here)\n",
    "<br>\n",
    "**Brief Article Citation** \n",
    "<br>\n",
    "What format should this be? "
   ]
  }
 ],
 "metadata": {
  "kernelspec": {
   "display_name": "norc_jcoin_026",
   "language": "python",
   "name": "norc_jcoin_026"
  },
  "language_info": {
   "codemirror_mode": {
    "name": "ipython",
    "version": 3
   },
   "file_extension": ".py",
   "mimetype": "text/x-python",
   "name": "python",
   "nbconvert_exporter": "python",
   "pygments_lexer": "ipython3",
   "version": "3.9.2"
  }
 },
 "nbformat": 4,
 "nbformat_minor": 5
}
