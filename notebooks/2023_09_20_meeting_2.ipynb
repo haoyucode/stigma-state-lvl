{
 "cells": [
  {
   "cell_type": "markdown",
   "id": "3c7ee545-94dc-4313-a611-0f6fc38b51d4",
   "metadata": {
    "tags": [
     "hide-input"
    ]
   },
   "source": [
    "# Stigma against Opioid Use Disorder varies by Personal Use status"
   ]
  },
  {
   "cell_type": "markdown",
   "id": "b33a0ab3-27a0-4d2c-9f3c-8bdd71b7a1c6",
   "metadata": {
    "tags": [
     "margin",
     "remove-input"
    ]
   },
   "source": [
    "```{margin} \n",
    "**To follow the full analysis, click through the hidden analysis code below**\n",
    "```"
   ]
  },
  {
   "cell_type": "code",
   "execution_count": null,
   "id": "98999284",
   "metadata": {},
   "outputs": [],
   "source": [
    "%matplotlib inline"
   ]
  },
  {
   "cell_type": "code",
   "execution_count": null,
   "id": "67b6df4a-6479-4274-aba2-34157f64eee6",
   "metadata": {
    "tags": [
     "hide-input",
     "margin"
    ]
   },
   "outputs": [],
   "source": [
    "# import packages\n",
    "import os\n",
    "import json\n",
    "from pathlib import Path\n",
    "import pandas as pd\n",
    "import numpy as np\n",
    "import pyreadstat\n",
    "import seaborn as sns\n",
    "import matplotlib.pyplot as plt\n",
    "import plotly.express as px\n",
    "from utils import *\n",
    "from samplics.estimation import TaylorEstimator\n",
    "pd.set_option('mode.chained_assignment', None)"
   ]
  },
  {
   "attachments": {},
   "cell_type": "markdown",
   "id": "512e17ab",
   "metadata": {},
   "source": [
    "### Data cleaning/pre-processing"
   ]
  },
  {
   "cell_type": "code",
   "execution_count": null,
   "id": "524ded81",
   "metadata": {},
   "outputs": [],
   "source": [
    "# inputs\n",
    "STATE_ABBREVIATIONS = \"state_abbrev_mappings.json\"\n",
    "DATAPATH = \"P:/3652/Common/HEAL/y3-task-c-collaborative-projects/jcoin-stigma/analyses/data/protocol2/\"\n",
    "DATA_FILE = DATAPATH+\"3645_JCOIN_HEAL Initiative 2021_NORC_Jan2022_1.sav\"\n",
    "STRATA_FILE = DATAPATH+\"VSTRAT_VPSU_Survey_2039_HEAL_MAIN_21_05_14.csv\""
   ]
  },
  {
   "cell_type": "code",
   "execution_count": null,
   "id": "df55a4f9-ad51-47dd-be63-e77890aa430c",
   "metadata": {
    "tags": [
     "hide-input",
     "margin"
    ]
   },
   "outputs": [],
   "source": [
    "# import data and metadata (data dictionaries)\n",
    "df, meta = pyreadstat.read_sav(DATA_FILE,apply_value_formats=True)\n"
   ]
  },
  {
   "cell_type": "code",
   "execution_count": null,
   "id": "8374382c",
   "metadata": {},
   "outputs": [],
   "source": [
    "\n",
    "# lower-case column names \n",
    "df.columns = df.columns.str.lower()"
   ]
  },
  {
   "cell_type": "code",
   "execution_count": null,
   "id": "94a607ed",
   "metadata": {},
   "outputs": [],
   "source": [
    "vars_of_interest = [\"caseid\",'p_over','weight1','weight2','stigma_scale_score','expanded_10item_stigma','state','age4','racethnicity','educ5','personaluse_ever','familyuse_ever','personalcrimjust_ever','familycrimjust_ever']\n",
    "categorical_vars = ['p_over','state','age4','racethnicity','educ5',\n",
    "    'personaluse_ever','familyuse_ever',\n",
    "    'personalcrimjust_ever','familycrimjust_ever']\n",
    "\n"
   ]
  },
  {
   "cell_type": "code",
   "execution_count": null,
   "id": "9cd6c42a",
   "metadata": {},
   "outputs": [],
   "source": [
    "# to enable more granular analysis of the stigma scale score(s) - e.g. parsing impact of current versus past OUD on stigma - bring in the individual ss questions\n",
    "\n",
    "# ss_a_historywork - agree means low stigma/high val means low stigma\n",
    "# ss_b_historymarry - agree means low stigma/high val means low stigma\n",
    "# ss_c_currentwork - agree means low stigma/high val means low stigma\n",
    "# ss_d_currentmarry - agree means low stigma/high val means low stigma\n",
    "\n",
    "# -------- use the reverse coded for history and current work and marry vars - these ones are the only ss questions where agree means low stigma, using the reverse coded version brings them in line with the others for easier analysis\n",
    "\n",
    "# ss_a_historywork_rev - already converted to numeric/high val means high stigma\n",
    "# ss_b_historymarry_rev - already converted to numeric/high val means high stigma\n",
    "# ss_c_currentwork_rev - already converted to numeric/high val means high stigma\n",
    "# ss_d_currentmarry_rev - already converted to numeric/high val means high stigma\n",
    "\n",
    "# ss_e_dangerous - agree means high stigma/high val means high stigma\n",
    "# ss_f_ trust - agree means high stigma/high val means high stigma\n",
    "# ss_history_steal - agree means high stigma/high val means high stigma\n",
    "# ss_historyhighrisk - agree means high stigma/high val means high stigma\n",
    "# ss_currentsteal - agree means high stigma/high val means high stigma\n",
    "# ss_currenthighrisk - agree means high stigma/high val means high stigma\n",
    "\n",
    "ss_6_past = ['ss_a_historywork_rev','ss_b_historymarry_rev']\n",
    "ss_6_current = ['ss_c_currentwork_rev','ss_d_currentmarry_rev','ss_e_dangerous','ss_f_trust']\n",
    "\n",
    "ss_6_full = ss_6_past + ss_6_current\n",
    "\n",
    "ss_10_past = ['ss_historysteal', 'ss_historyhighrisk']\n",
    "ss_10_current = ['ss_currentsteal', 'ss_currenthighrisk']\n",
    "\n",
    "ss_10_full = ss_6_full + ss_10_past + ss_10_current\n",
    "\n",
    "ss_past = ss_6_past + ss_10_past\n",
    "ss_current = ss_6_current + ss_10_current\n",
    "\n",
    "\n",
    "\n"
   ]
  },
  {
   "cell_type": "code",
   "execution_count": null,
   "id": "9094af12",
   "metadata": {},
   "outputs": [],
   "source": [
    "# to enable parsing of stigma by political affiliation, views on race/ethnicity, and experience of racial/ethnic discrimination bring in variables assessing those items\n",
    "\n",
    "# political = ['pid1','pida','pidb','pidi','partyid7','partyid5']\n",
    "political = ['partyid5']\n",
    "\n",
    "race = ['race_whiteadvantage','race_rich']\n",
    "\n",
    "# race_whiteadvanctage: [White people in the U.S. have certain advantages because of the color of their skin.] Do you disagree or agree with the following statements?\n",
    "    # agree corresponds with recognition of white advantage; high vals = recognition of white advantage\n",
    "    # reverse code this from likert vars so that high vals will now indicate lack of recognition of white advantage\n",
    "\n",
    "# race_rich: [Everyone who works hard, no matter what race they are, has an equal chance to become rich.] Do you disagree or agree with the following statements?\n",
    "    # agree corresponds with lack of recognition of white advantage; high vals = lack of recognition of white advantage\n",
    "    # code this along with the likert vars where high vals = high stigma; in this case high vals = lack of recognition of white advantage\n",
    "\n",
    "#discrimination_experience = ['times_atschool', 'times_hired', 'times_atwork', 'times_housing', 'times_medcare', 'times_restaurant', 'times_credit', 'times_street', 'times_police']\n",
    "\n",
    "# possible approach: \n",
    "    # add count of dicrimination experiences (times) across categories\n",
    "    # higher numbers mean more discrimination experience\n",
    "\n"
   ]
  },
  {
   "cell_type": "code",
   "execution_count": null,
   "id": "89ea178f",
   "metadata": {},
   "outputs": [],
   "source": [
    "likert_replace_vars = ['ss_e_dangerous','ss_f_trust','ss_historysteal', 'ss_historyhighrisk','ss_currentsteal', 'ss_currenthighrisk','race_rich']\n",
    "likert_reverse_replace_vars = ['race_whiteadvantage']"
   ]
  },
  {
   "cell_type": "code",
   "execution_count": null,
   "id": "bc58e43f",
   "metadata": {},
   "outputs": [],
   "source": [
    "\n",
    "#additional_vars_of_interest = ss_10_full + political + race + discrimination_experience\n",
    "additional_vars_of_interest = [\"caseid\"] + ss_10_full + political + race \n",
    "all_vars_of_interest = vars_of_interest + additional_vars_of_interest\n",
    "\n"
   ]
  },
  {
   "cell_type": "code",
   "execution_count": null,
   "id": "41e21360",
   "metadata": {},
   "outputs": [],
   "source": [
    "# narrow down the dataset to only a few interesting (and relatively clean, straightforward variables) - check for missingness and impute to fill in missing\n",
    "sub_df_1 = df[vars_of_interest]\n",
    "sub_df_2 = df[additional_vars_of_interest]"
   ]
  },
  {
   "cell_type": "code",
   "execution_count": null,
   "id": "c4104274",
   "metadata": {},
   "outputs": [],
   "source": [
    "sub_df_2"
   ]
  },
  {
   "cell_type": "code",
   "execution_count": null,
   "id": "7509d882",
   "metadata": {},
   "outputs": [],
   "source": [
    "# get all var types\n",
    "print(\"var info: \")\n",
    "print(sub_df_2.info())\n",
    "\n",
    "# all new vars (except the reverse coded individual stigma scale questions) are categorical"
   ]
  },
  {
   "cell_type": "code",
   "execution_count": null,
   "id": "870af457",
   "metadata": {},
   "outputs": [],
   "source": [
    "# check for missing I\n",
    "\n",
    "# check if missing values\n",
    "print(\"missing values: \")\n",
    "print(sub_df_2.isnull().sum())\n",
    "\n",
    "# check if missing values\n",
    "print(\"missing values: \")\n",
    "print(sub_df_2.isna().sum())\n",
    "\n",
    "# every var has at least some missing, except for partyid7"
   ]
  },
  {
   "cell_type": "code",
   "execution_count": null,
   "id": "165271e6",
   "metadata": {},
   "outputs": [],
   "source": [
    "#print(\"ss single questions, categories: \")\n",
    "#print(sub_df_2.ss_a_historywork.value_counts(dropna=False))\n",
    "\n",
    "print(\"ss single questions, categories: \")\n",
    "print(sub_df_2.ss_a_historywork_rev.value_counts(dropna=False))\n",
    "\n",
    "print(\"ss single questions, categories: \")\n",
    "print(sub_df_2.ss_e_dangerous.value_counts(dropna=False))\n",
    "\n",
    "#print(\"party id 7 composite question, categories: \")\n",
    "#print(sub_df_2.partyid7.value_counts(dropna=False))\n",
    "\n",
    "print(\"party id 5 composite question, categories: \")\n",
    "print(sub_df_2.partyid5.value_counts(dropna=False))\n",
    "\n",
    "#print(\"discrimination times single questions, categories: \")\n",
    "#print(sub_df_2.times_atschool.value_counts(dropna=False))"
   ]
  },
  {
   "cell_type": "code",
   "execution_count": null,
   "id": "26639ccd",
   "metadata": {},
   "outputs": [],
   "source": [
    "likert_replacer = {'Strongly disagree': 1, \n",
    "                   'Somewhat disagree': 2,\n",
    "                   'Neither disagree nor agree': 3,\n",
    "                   'Somewhat agree': 4, \n",
    "                   'Strongly agree': 5}\n",
    "\n",
    "likert_reverse_replacer = {'Strongly disagree': 5, \n",
    "                           'Somewhat disagree': 4,\n",
    "                           'Neither disagree nor agree': 3,\n",
    "                           'Somewhat agree': 2, \n",
    "                           'Strongly agree': 1}\n",
    "\n",
    "sub_df_2[likert_replace_vars].replace(likert_replacer, inplace=True)\n",
    "sub_df_2[likert_replace_vars] = sub_df_2[likert_replace_vars].astype(\"float\")\n",
    "\n",
    "sub_df_2[likert_reverse_replace_vars].replace(likert_reverse_replacer, inplace=True)\n",
    "sub_df_2[likert_reverse_replace_vars] = sub_df_2[likert_reverse_replace_vars].astype(\"float\")\n",
    "\n",
    "#sub_df_2['partyid5_any_d'] = np.where(sub_df_2['partyid5'] in [\"Democrat\",\"Lean Democrat\"], 1,0)\n",
    "sub_df_2['partyid5_strong_d'] = np.where(sub_df_2['partyid5'] == \"Democrat\", 1,0)\n",
    "#sub_df_2['partyid5_any_r'] = np.where(sub_df_2['partyid5'] in [\"Republican\",\"Lean Republican\"], 1,0)\n",
    "sub_df_2['partyid5_strong_r'] = np.where(sub_df_2['partyid5'] == \"Republican\", 1,0)\n",
    "\n",
    "sub_df_2.drop(['partyid5'], axis=1, inplace=True)\n",
    "\n",
    "sub_df_2\n",
    "\n"
   ]
  },
  {
   "cell_type": "code",
   "execution_count": null,
   "id": "34210263",
   "metadata": {},
   "outputs": [],
   "source": [
    "# check for missing I\n",
    "\n",
    "# check if missing values\n",
    "print(\"missing values: \")\n",
    "print(sub_df_2.isnull().sum())\n",
    "\n",
    "# check if missing values\n",
    "print(\"missing values: \")\n",
    "print(sub_df_2.isna().sum())"
   ]
  },
  {
   "cell_type": "code",
   "execution_count": null,
   "id": "cde4a7a3",
   "metadata": {},
   "outputs": [],
   "source": [
    "# get all var types\n",
    "print(\"var info: \")\n",
    "print(sub_df_2.info())"
   ]
  },
  {
   "cell_type": "code",
   "execution_count": null,
   "id": "c9df9aa1",
   "metadata": {},
   "outputs": [],
   "source": [
    "mode_impute_vars = ss_10_full + race\n",
    "mode_impute_vars\n"
   ]
  },
  {
   "cell_type": "code",
   "execution_count": null,
   "id": "3d38d677",
   "metadata": {},
   "outputs": [],
   "source": [
    "\n",
    "\n",
    "#df['salary'] = df['salary'].fillna(df['salary'].mode()[0])\n",
    "\n",
    "sub_df_2[mode_impute_vars] = sub_df_2[mode_impute_vars].fillna(sub_df_2[mode_impute_vars].mode().iloc[0])\n",
    "\n",
    "# check if missing values\n",
    "print(\"missing values: \")\n",
    "print(sub_df_2.isnull().sum())"
   ]
  },
  {
   "cell_type": "code",
   "execution_count": null,
   "id": "194f0074",
   "metadata": {},
   "outputs": [],
   "source": [
    "# get all var types\n",
    "print(\"var info: \")\n",
    "print(sub_df_2.info())"
   ]
  },
  {
   "cell_type": "code",
   "execution_count": null,
   "id": "b23c688e",
   "metadata": {},
   "outputs": [],
   "source": [
    "#df['avg'] = df[['Monday', 'Tuesday']].mean(axis=1)\n",
    "\n",
    "sub_df_2[\"ss_6_past\"] = sub_df_2[ss_6_past].mean(axis=1)\n",
    "sub_df_2[\"ss_6_current\"] = sub_df_2[ss_6_current].mean(axis=1)\n",
    "\n",
    "sub_df_2[\"ss_past\"] = sub_df_2[ss_past].mean(axis=1)\n",
    "sub_df_2[\"ss_current\"] = sub_df_2[ss_current].mean(axis=1)\n",
    "\n",
    "flag_threshold = 3\n",
    "\n",
    "sub_df_2[\"race_view_flag\"] = np.where((sub_df_2[\"race_whiteadvantage\"] > flag_threshold) | (sub_df_2[\"race_rich\"] > flag_threshold), 1, 0)"
   ]
  },
  {
   "cell_type": "code",
   "execution_count": null,
   "id": "c5026293",
   "metadata": {},
   "outputs": [],
   "source": [
    "# get all var types\n",
    "print(\"var info: \")\n",
    "print(sub_df_2.info())"
   ]
  },
  {
   "cell_type": "code",
   "execution_count": null,
   "id": "steady-filing",
   "metadata": {
    "tags": [
     "hide-input",
     "margin"
    ]
   },
   "outputs": [],
   "source": [
    "# clean up some of the categoricals to be consistently coded\n",
    "sub_df_1.familycrimjust_ever.replace({0:\"No\",1:\"Yes\"},inplace=True)\n",
    "sub_df_1.familyuse_ever.replace({\" No\":\"No\"},inplace=True)\n",
    "sub_df_1.personalcrimjust_ever.replace({\"Yes, ever arrested or incarcerated\":\"Yes\", \"No, never arrested or incarcerated\":\"No\"},inplace=True)\n"
   ]
  },
  {
   "cell_type": "code",
   "execution_count": null,
   "id": "89596f1a",
   "metadata": {},
   "outputs": [],
   "source": [
    "# check for missing \n",
    "\n",
    "print(sub_df_1.isnull().sum())\n"
   ]
  },
  {
   "cell_type": "code",
   "execution_count": null,
   "id": "31893278",
   "metadata": {},
   "outputs": [],
   "source": [
    "\n",
    "# impute any missing - confirm missing eliminated\n",
    "\n",
    "# # impute missing stigma scale score vals with median, impute missing personaluse_ever with mode, \"No\"\n",
    "\n",
    "# replace missing values of personaluse_ever with mode value of 'No'\n",
    "sub_df_1.personaluse_ever.fillna('No',inplace=True)\n",
    "#print(sub_df_1.isnull().sum())\n",
    "\n",
    "sub_df_1.familyuse_ever.fillna('No',inplace=True)\n",
    "#print(sub_df_1.isnull().sum())\n",
    "\n",
    "sub_df_1.personalcrimjust_ever.fillna('No',inplace=True)\n",
    "#print(sub_df_1.isnull().sum())\n",
    "\n",
    "sub_df_1.familycrimjust_ever.fillna('No',inplace=True)\n",
    "#print(sub_df_1.isnull().sum())\n",
    "\n",
    "\n",
    "# impute missing stigma scale score values as the median score \n",
    "#sub_df_1['stigma_scale_score'].fillna(sub_df_1.groupby('time-point')['stigma_scale_score'].transform('median'),inplace=True)\n",
    "sub_df_1['stigma_scale_score'].fillna(sub_df_1['stigma_scale_score'].median(),inplace=True)\n",
    "sub_df_1['expanded_10item_stigma'].fillna(sub_df_1['expanded_10item_stigma'].median(),inplace=True)\n",
    "\n",
    "print(sub_df_1.isnull().sum())"
   ]
  },
  {
   "cell_type": "code",
   "execution_count": null,
   "id": "61f0175c",
   "metadata": {},
   "outputs": [],
   "source": [
    "# add df column with state 2 letter code\n",
    "# https://pythonfix.com/code/us-states-abbrev.py/\n",
    "# state name to two letter code dictionary\n",
    "us_state_to_abbrev = json.loads(Path(STATE_ABBREVIATIONS).read_text())\n",
    "state_cd = sub_df_1.state.replace(us_state_to_abbrev)\n",
    "sub_df_1.insert(6,\"state_cd\",state_cd,True)"
   ]
  },
  {
   "cell_type": "code",
   "execution_count": null,
   "id": "8ae89ce6",
   "metadata": {},
   "outputs": [],
   "source": [
    "# Add jcoin information\n",
    "jcoin_json = json.loads(Path(\"jcoin_states.json\").read_text())\n",
    "\n",
    "jcoin_df = (pd.DataFrame(jcoin_json)\n",
    "    .assign(hub_types=lambda df:df[\"hub\"]+\"(\"+df[\"type\"]+\")\")\n",
    "    .groupby('states')\n",
    "    # make a list of the name and type of hub/study and how many hubs are in that state\n",
    "    .agg({\"hub_types\":lambda s:\",\".join(s),\"hub\":\"count\"})\n",
    "    .reset_index()\n",
    "    .rename(\n",
    "        columns={\"states\":\"state_cd\",\n",
    "        \"hub\":\"jcoin_hub_count\",\n",
    "        \"hub_types\":\"jcoin_hub_types\"})\n",
    ")\n",
    "\n",
    "jcoin_df[\"jcoin_flag\"] = 1"
   ]
  },
  {
   "cell_type": "code",
   "execution_count": null,
   "id": "2010c0a7",
   "metadata": {},
   "outputs": [],
   "source": [
    "jcoin_df.head()"
   ]
  },
  {
   "cell_type": "code",
   "execution_count": null,
   "id": "c68029c6",
   "metadata": {},
   "outputs": [],
   "source": [
    "sub_df_1 = sub_df_1.merge(jcoin_df,on=\"state_cd\",how=\"left\")\n",
    "sub_df_1[\"jcoin_hub_types\"].fillna(\"not JCOIN\",inplace=True)\n",
    "sub_df_1[\"jcoin_hub_count\"].fillna(0,inplace=True)\n",
    "sub_df_1[\"jcoin_flag\"].fillna(0,inplace=True)\n",
    "sub_df_1[\"is_jcoin_hub\"] = np.where(sub_df_1[\"jcoin_hub_types\"]==\"not JCOIN\",\"No\",\"Yes\")\n",
    "sub_df_1.head()"
   ]
  },
  {
   "cell_type": "code",
   "execution_count": null,
   "id": "41d0f329",
   "metadata": {},
   "outputs": [],
   "source": [
    "# join strata into dataset\n",
    "sub_df_1 = sub_df_1.merge(sub_df_2,on='caseid',how='left')\n",
    "\n",
    "\n",
    "sub_df_1"
   ]
  },
  {
   "cell_type": "code",
   "execution_count": null,
   "id": "3ff05133",
   "metadata": {},
   "outputs": [],
   "source": [
    "sub_df_1.columns"
   ]
  },
  {
   "cell_type": "code",
   "execution_count": null,
   "id": "4756894e",
   "metadata": {},
   "outputs": [],
   "source": [
    "# o\tall: n/weighted n in genpop\n",
    "# o\tall:n/weighted n in as oversample\n",
    "# o\tall:n/weighted n in as oversample + gen pop(in oversampled state)\n",
    "# o\tper state: n/weighted n in as oversample\n",
    "# o\tmissingness; imputation procedures"
   ]
  },
  {
   "cell_type": "code",
   "execution_count": null,
   "id": "16d08751",
   "metadata": {},
   "outputs": [],
   "source": [
    "pop_counts_by_sampletypexstate = (\n",
    "    sub_df_1\n",
    "    .convert_dtypes()\n",
    "    .assign(jcoin_hub_count=lambda df: df.jcoin_hub_count.astype(str))\n",
    "    .groupby(['state_cd','p_over'])\n",
    "    [\"stigma_scale_score\"]\n",
    "    .count()\n",
    "    .unstack(['p_over'])\n",
    ")\n",
    "pop_counts_by_sampletypexstate[\"total\"] = pop_counts_by_sampletypexstate.sum(axis=1)"
   ]
  },
  {
   "cell_type": "code",
   "execution_count": null,
   "id": "fe63af94",
   "metadata": {},
   "outputs": [],
   "source": [
    "# merge jcoin info\n",
    "pop_counts_by_sampletypexstate = pop_counts_by_sampletypexstate\\\n",
    "    .merge(jcoin_df,on='state_cd',how='left')\\\n",
    "    .sort_values(\"total\",ascending=False)\\\n",
    "    .assign(\n",
    "        jcoin_hub_count=lambda df:df.jcoin_hub_count.fillna(0).astype(int),\n",
    "        jcoin_flag=lambda df:df.jcoin_flag.fillna(0).astype(int),\n",
    "        jcoin_hub_types=lambda df:(\n",
    "            np.where(df.jcoin_hub_types.isna() & df[\"AS oversample\"]>0,\"non JCOIN comparison\",\n",
    "                np.where(df.jcoin_hub_types.isna(),\"non JCOIN gen pop\",df.jcoin_hub_types)\n",
    "        )\n",
    "        \n",
    "        ))"
   ]
  },
  {
   "cell_type": "code",
   "execution_count": null,
   "id": "44ec59ff",
   "metadata": {},
   "outputs": [],
   "source": [
    "pop_counts_by_sampletypexstate"
   ]
  },
  {
   "cell_type": "code",
   "execution_count": null,
   "id": "02c6a62e",
   "metadata": {},
   "outputs": [],
   "source": [
    "states_with_oversample_df = pop_counts_by_sampletypexstate[pop_counts_by_sampletypexstate[\"AS oversample\"] > 0]\n",
    "states_with_oversample_list = states_with_oversample_df[\"state_cd\"]\n",
    "\n",
    "print(states_with_oversample_list)\n",
    "states_with_oversample_df"
   ]
  },
  {
   "cell_type": "code",
   "execution_count": null,
   "id": "b45d34c9",
   "metadata": {},
   "outputs": [],
   "source": [
    "print(\"N for Oversample, General and Total By State\")\n",
    "pop_counts_by_sampletypexstate.reset_index()\n",
    "\n",
    "pop_counts_by_sampletypexstate.to_csv(\"state_counts.csv\")\n"
   ]
  },
  {
   "cell_type": "code",
   "execution_count": null,
   "id": "9ad47a18",
   "metadata": {},
   "outputs": [],
   "source": [
    "print(\"N All\")\n",
    "pop_counts_by_sampletypexstate.sum().to_frame().T"
   ]
  },
  {
   "cell_type": "code",
   "execution_count": null,
   "id": "1516fb94",
   "metadata": {},
   "outputs": [],
   "source": [
    "# get subset of surveyed people who live in states with an oversample to calculate state level stats\n",
    "\n",
    "print(sub_df_1.columns)\n",
    "\n",
    "sub_df_1_as_oversample_states = sub_df_1[sub_df_1[\"state_cd\"].isin(states_with_oversample_list)]\n",
    "\n",
    "sub_df_1_as_oversample_states"
   ]
  },
  {
   "cell_type": "code",
   "execution_count": null,
   "id": "6a5943ae",
   "metadata": {},
   "outputs": [],
   "source": [
    "# get caseids for survey respondents in oversampled states\n",
    "caseid_in_as_oversample_state = sub_df_1_as_oversample_states[\"caseid\"]\n",
    "caseid_in_as_oversample_state"
   ]
  },
  {
   "attachments": {},
   "cell_type": "markdown",
   "id": "d7b60bdb",
   "metadata": {},
   "source": [
    "### National estimates"
   ]
  },
  {
   "cell_type": "markdown",
   "id": "b61bf805",
   "metadata": {},
   "source": [
    "### Add and correct strata and PSUs necessary for variance estimation "
   ]
  },
  {
   "cell_type": "code",
   "execution_count": null,
   "id": "c5e65458",
   "metadata": {},
   "outputs": [],
   "source": [
    "strata_df = pd.read_csv(STRATA_FILE)\n",
    "strata_df.columns = strata_df.columns.str.lower()\n",
    "\n",
    "# get strata and cluster ids for survey respondents in oversampled states\n",
    "strata_df_in_as_oversample_state = strata_df[strata_df[\"caseid\"].isin(caseid_in_as_oversample_state)]\n",
    "\n",
    "# collapse strata containing only 1 PSU\n",
    "onepsu = (\n",
    "    strata_df[[\"vstrat32\",\"vpsu32\"]]\n",
    "    .drop_duplicates()\n",
    "    .groupby(\"vstrat32\")\n",
    "    .count()\n",
    "    .squeeze()\n",
    "    .loc[lambda s:s==1]\n",
    "    .index\n",
    ")\n",
    "strata_df[\"vstrat32_corrected\"] = strata_df[\"vstrat32\"].where(cond=lambda s:~s.isin(onepsu),other=-1)\n",
    "# rename PSUs so no duplicates\n",
    "strata_df[\"vpsu32_corrected\"] = strata_df.groupby([\"vstrat32_corrected\",\"vpsu32\"]).ngroup()\n",
    "\n",
    "#---------------------------------------------------\n",
    "\n",
    "# collapse strata containing only 1 PSU\n",
    "onepsu_in_as_oversample_state = (\n",
    "    strata_df_in_as_oversample_state[[\"vstrat32\",\"vpsu32\"]]\n",
    "    .drop_duplicates()\n",
    "    .groupby(\"vstrat32\")\n",
    "    .count()\n",
    "    .squeeze()\n",
    "    .loc[lambda s:s==1]\n",
    "    .index\n",
    ")\n",
    "strata_df_in_as_oversample_state[\"vstrat32_corrected\"] = strata_df_in_as_oversample_state[\"vstrat32\"].where(cond=lambda s:~s.isin(onepsu_in_as_oversample_state),other=-1)\n",
    "# rename PSUs so no duplicates\n",
    "strata_df_in_as_oversample_state[\"vpsu32_corrected\"] = strata_df_in_as_oversample_state.groupby([\"vstrat32_corrected\",\"vpsu32\"]).ngroup()"
   ]
  },
  {
   "cell_type": "code",
   "execution_count": null,
   "id": "83d07c80",
   "metadata": {},
   "outputs": [],
   "source": [
    "strata_df"
   ]
  },
  {
   "cell_type": "code",
   "execution_count": null,
   "id": "467956be",
   "metadata": {},
   "outputs": [],
   "source": [
    "strata_df_in_as_oversample_state"
   ]
  },
  {
   "cell_type": "code",
   "execution_count": null,
   "id": "a27aa3f6",
   "metadata": {},
   "outputs": [],
   "source": [
    "sub_df_1"
   ]
  },
  {
   "cell_type": "code",
   "execution_count": null,
   "id": "0f8ffb14",
   "metadata": {},
   "outputs": [],
   "source": [
    "sub_df_1_as_oversample_states"
   ]
  },
  {
   "cell_type": "code",
   "execution_count": null,
   "id": "d9cebb73",
   "metadata": {},
   "outputs": [],
   "source": [
    "# join strata into dataset\n",
    "sub_df_1 = sub_df_1.set_index(\"caseid\").join(strata_df.set_index('caseid'))\n",
    "\n",
    "sub_df_1_as_oversample_states = sub_df_1_as_oversample_states.set_index(\"caseid\").join(strata_df_in_as_oversample_state.set_index('caseid'))"
   ]
  },
  {
   "cell_type": "code",
   "execution_count": null,
   "id": "4719d581",
   "metadata": {},
   "outputs": [],
   "source": [
    "print(sub_df_1.columns)\n",
    "    \n",
    "sub_df_1"
   ]
  },
  {
   "cell_type": "code",
   "execution_count": null,
   "id": "c1223f84",
   "metadata": {},
   "outputs": [],
   "source": [
    "print(sub_df_1_as_oversample_states.columns)\n",
    "\n",
    "sub_df_1_as_oversample_states"
   ]
  },
  {
   "attachments": {},
   "cell_type": "markdown",
   "id": "a4bc39f6",
   "metadata": {},
   "source": [
    "### Data overview (counts and missing values)"
   ]
  },
  {
   "cell_type": "code",
   "execution_count": null,
   "id": "064d6b83",
   "metadata": {},
   "outputs": [],
   "source": [
    "# o\ttable/bar: \n",
    "# \tpoint estimate + bootstrap CI; based on gen pop and weight1 \n",
    "# o\ttable/bar: \n",
    "# \tpoint estimate + bootstrap CI; based on as oversample + gen pop and weight 2\n",
    "# o\thistogram: \n",
    "# \tdistribution; based on as oversample + gen pop and weight 2\n",
    "# \tdistribution by personaluse_ever, familyuse_ever, personalcrimjust_ever, familycrimjust_ever; based on as oversample + gen pop and weight 2\n"
   ]
  },
  {
   "cell_type": "code",
   "execution_count": null,
   "id": "4f9d66a5",
   "metadata": {},
   "outputs": [],
   "source": [
    "sample_estimator_ss_6 = TaylorEstimator(\"mean\")\n",
    "sample_estimator_ss_6.estimate(\n",
    "    y=sub_df_1[\"stigma_scale_score\"],\n",
    "    samp_weight=sub_df_1[\"weight2\"],\n",
    "    stratum=sub_df_1[\"vstrat32_corrected\"],\n",
    "    psu=sub_df_1[\"vpsu32_corrected\"],\n",
    ")\n",
    "sample_estimator_ss_6_df = sample_estimator_ss_6.to_dataframe()\n",
    "\n",
    "sample_estimator_ss_6_df.insert(1,\"_domain\",\"\")\n",
    "sample_estimator_ss_6_df.insert(0,\"geo\",\"nation\")\n",
    "sample_estimator_ss_6_df.insert(0,\"var\",\"ss_6\")\n",
    "sample_estimator_ss_6_df\n",
    "\n"
   ]
  },
  {
   "cell_type": "code",
   "execution_count": null,
   "id": "c61de88d",
   "metadata": {},
   "outputs": [],
   "source": [
    "sample_estimator_ss_6_past = TaylorEstimator(\"mean\")\n",
    "sample_estimator_ss_6_past.estimate(\n",
    "    y=sub_df_1[\"ss_6_past\"],\n",
    "    samp_weight=sub_df_1[\"weight2\"],\n",
    "    stratum=sub_df_1[\"vstrat32_corrected\"],\n",
    "    psu=sub_df_1[\"vpsu32_corrected\"],\n",
    ")\n",
    "sample_estimator_ss_6_past_df = sample_estimator_ss_6_past.to_dataframe()\n",
    "\n",
    "sample_estimator_ss_6_past_df.insert(1,\"_domain\",\"\")\n",
    "sample_estimator_ss_6_past_df.insert(0,\"geo\",\"nation\")\n",
    "sample_estimator_ss_6_past_df.insert(0,\"var\",\"ss_6_past\")\n",
    "sample_estimator_ss_6_past_df"
   ]
  },
  {
   "cell_type": "code",
   "execution_count": null,
   "id": "74add57d",
   "metadata": {},
   "outputs": [],
   "source": [
    "sample_estimator_ss_6_current = TaylorEstimator(\"mean\")\n",
    "sample_estimator_ss_6_current.estimate(\n",
    "    y=sub_df_1[\"ss_6_current\"],\n",
    "    samp_weight=sub_df_1[\"weight2\"],\n",
    "    stratum=sub_df_1[\"vstrat32_corrected\"],\n",
    "    psu=sub_df_1[\"vpsu32_corrected\"],\n",
    ")\n",
    "sample_estimator_ss_6_current_df = sample_estimator_ss_6_current.to_dataframe()\n",
    "\n",
    "sample_estimator_ss_6_current_df.insert(1,\"_domain\",\"\")\n",
    "sample_estimator_ss_6_current_df.insert(0,\"geo\",\"nation\")\n",
    "sample_estimator_ss_6_current_df.insert(0,\"var\",\"ss_6_current\")\n",
    "sample_estimator_ss_6_current_df"
   ]
  },
  {
   "cell_type": "code",
   "execution_count": null,
   "id": "d9ef731c",
   "metadata": {},
   "outputs": [],
   "source": [
    "sample_estimator_ss_6_df = pd.concat([sample_estimator_ss_6_df, sample_estimator_ss_6_past_df, sample_estimator_ss_6_current_df], axis = 0)\n",
    "sample_estimator_ss_6_df"
   ]
  },
  {
   "cell_type": "code",
   "execution_count": null,
   "id": "d4806b7e",
   "metadata": {},
   "outputs": [],
   "source": [
    "plot_df = sample_estimator_ss_6_df\n",
    "plot_x_var = \"var\"\n",
    "\n",
    "ax = sns.barplot(data=plot_df, x=plot_x_var, y=\"_estimate\", color=\"dodgerblue\", dodge=False)\n",
    "\n",
    "#plt.draw()\n",
    "ax.errorbar(data=plot_df, x=plot_x_var, y='_estimate', yerr=[plot_df[\"_estimate\"] - plot_df[\"_lci\"],plot_df[\"_uci\"] - plot_df[\"_estimate\"]], ls='', color='black')\n",
    "ax.set_xticks(ax.get_xticks())\n",
    "ax.set_xticklabels(ax.get_xticklabels(),rotation=45,horizontalalignment='right')"
   ]
  },
  {
   "cell_type": "code",
   "execution_count": null,
   "id": "c8e2a8fc",
   "metadata": {},
   "outputs": [],
   "source": [
    "state_estimator_ss_6 = TaylorEstimator(\"mean\")\n",
    "state_estimator_ss_6.estimate(\n",
    "    y=sub_df_1_as_oversample_states[\"stigma_scale_score\"],\n",
    "    samp_weight=sub_df_1_as_oversample_states[\"weight2\"],\n",
    "    stratum=sub_df_1_as_oversample_states[\"vstrat32_corrected\"],\n",
    "    psu=sub_df_1_as_oversample_states[\"vpsu32_corrected\"],\n",
    "    domain=sub_df_1_as_oversample_states[\"state_cd\"]\n",
    ")\n",
    "#state_mean_estimates = state_estimator.to_dataframe().rename(columns={\"_domain\":\"state_cd\",\"_estimate\":\"mean\"})\n",
    "\n",
    "state_estimator_ss_6_df = state_estimator_ss_6.to_dataframe().rename(columns={\"_domain\":\"state_cd\"})\n",
    "\n",
    "\n",
    "#sample_estimator_ss_6_current_df.insert(1,\"_domain\",\"nation\")\n",
    "state_estimator_ss_6_df.insert(0,\"geo\",\"state\")\n",
    "state_estimator_ss_6_df.insert(0,\"var\",\"ss_6\")\n",
    "state_estimator_ss_6_df\n"
   ]
  },
  {
   "cell_type": "code",
   "execution_count": null,
   "id": "69d70f69",
   "metadata": {},
   "outputs": [],
   "source": [
    "state_estimator_ss_6_df.sort_values(by = [\"_estimate\"], inplace=True, ascending=True)\n",
    "\n",
    "state_estimator_ss_6_df = state_estimator_ss_6_df\\\n",
    "    .merge(pop_counts_by_sampletypexstate,on='state_cd',how='left')\n",
    "\n",
    "state_estimator_ss_6_df"
   ]
  },
  {
   "cell_type": "code",
   "execution_count": null,
   "id": "36c6216d",
   "metadata": {},
   "outputs": [],
   "source": [
    "plot_df = state_estimator_ss_6_df\n",
    "plot_x_var = \"state_cd\"\n",
    "\n",
    "ax = sns.barplot(data=plot_df, x=plot_x_var, y=\"_estimate\", color=\"dodgerblue\", dodge=False)\n",
    "\n",
    "#plt.draw()\n",
    "ax.errorbar(data=plot_df, x=plot_x_var, y='_estimate', yerr=[plot_df[\"_estimate\"] - plot_df[\"_lci\"],plot_df[\"_uci\"] - plot_df[\"_estimate\"]], ls='', color='black')\n",
    "ax.set_xticks(ax.get_xticks())\n",
    "ax.set_xticklabels(ax.get_xticklabels(),rotation=45,horizontalalignment='right')"
   ]
  },
  {
   "cell_type": "code",
   "execution_count": null,
   "id": "df39af44",
   "metadata": {},
   "outputs": [],
   "source": [
    "plot_df = state_estimator_ss_6_df\n",
    "plot_x_var = \"state_cd\"\n",
    "plot_color_by_var = \"jcoin_flag\"\n",
    "\n",
    "ax = sns.barplot(data=plot_df, x=plot_x_var, y=\"_estimate\", dodge=False, hue=plot_df[plot_color_by_var].astype(\"string\"))\n",
    "\n",
    "#plt.draw()\n",
    "ax.errorbar(data=plot_df, x=plot_x_var, y='_estimate', yerr=[plot_df[\"_estimate\"] - plot_df[\"_lci\"],plot_df[\"_uci\"] - plot_df[\"_estimate\"]], ls='', color='black')\n",
    "ax.set_xticks(ax.get_xticks())\n",
    "ax.set_xticklabels(ax.get_xticklabels(),rotation=45,horizontalalignment='right')"
   ]
  },
  {
   "cell_type": "code",
   "execution_count": null,
   "id": "f5986595",
   "metadata": {},
   "outputs": [],
   "source": [
    "estimator_df = sub_df_1_as_oversample_states[sub_df_1_as_oversample_states[\"partyid5_strong_d\"] == 1]\n",
    "estimator_df"
   ]
  },
  {
   "cell_type": "code",
   "execution_count": null,
   "id": "72889074",
   "metadata": {},
   "outputs": [],
   "source": [
    "\n",
    "estimator_df = sub_df_1_as_oversample_states[sub_df_1_as_oversample_states[\"partyid5_strong_d\"] == 1]\n",
    "estimator_df\n",
    "\n",
    "state_estimator_ss_6_strong_d = TaylorEstimator(\"mean\")\n",
    "state_estimator_ss_6_strong_d.estimate(\n",
    "    y=estimator_df[\"stigma_scale_score\"],\n",
    "    samp_weight=estimator_df[\"weight2\"],\n",
    "    stratum=estimator_df[\"vstrat32_corrected\"],\n",
    "    psu=estimator_df[\"vpsu32_corrected\"],\n",
    "    domain=estimator_df[\"state_cd\"]\n",
    ")\n",
    "#state_mean_estimates = state_estimator.to_dataframe().rename(columns={\"_domain\":\"state_cd\",\"_estimate\":\"mean\"})\n",
    "\n",
    "state_estimator_ss_6_strong_d_df = state_estimator_ss_6_strong_d.to_dataframe().rename(columns={\"_domain\":\"state_cd\"})\n",
    "\n",
    "\n",
    "#sample_estimator_ss_6_current_df.insert(1,\"_domain\",\"nation\")\n",
    "state_estimator_ss_6_strong_d_df.insert(0,\"geo\",\"state\")\n",
    "state_estimator_ss_6_strong_d_df.insert(0,\"var\",\"ss_6\")\n",
    "state_estimator_ss_6_strong_d_df.insert(0,\"filter_var\",\"strong_d\")\n",
    "state_estimator_ss_6_strong_d_df"
   ]
  },
  {
   "cell_type": "code",
   "execution_count": null,
   "id": "f57385eb",
   "metadata": {},
   "outputs": [],
   "source": [
    "state_estimator_ss_6_past = TaylorEstimator(\"mean\")\n",
    "state_estimator_ss_6_past.estimate(\n",
    "    y=sub_df_1_as_oversample_states[\"ss_6_past\"],\n",
    "    samp_weight=sub_df_1_as_oversample_states[\"weight2\"],\n",
    "    stratum=sub_df_1_as_oversample_states[\"vstrat32_corrected\"],\n",
    "    psu=sub_df_1_as_oversample_states[\"vpsu32_corrected\"],\n",
    "    domain=sub_df_1_as_oversample_states[\"state_cd\"]\n",
    ")\n",
    "#state_mean_estimates = state_estimator.to_dataframe().rename(columns={\"_domain\":\"state_cd\",\"_estimate\":\"mean\"})\n",
    "\n",
    "state_estimator_ss_6_past_df = state_estimator_ss_6_past.to_dataframe().rename(columns={\"_domain\":\"state_cd\"})\n",
    "\n",
    "\n",
    "#sample_estimator_ss_6_current_df.insert(1,\"_domain\",\"nation\")\n",
    "state_estimator_ss_6_past_df.insert(0,\"geo\",\"state\")\n",
    "state_estimator_ss_6_past_df.insert(0,\"var\",\"ss_6_past\")\n",
    "state_estimator_ss_6_past_df"
   ]
  },
  {
   "cell_type": "code",
   "execution_count": null,
   "id": "e3ede6ca",
   "metadata": {},
   "outputs": [],
   "source": [
    "# order state by same order as when sorting by ss_6\n",
    "state_order_by_ss_6 = list(state_estimator_ss_6_df[\"state_cd\"])\n",
    "state_order_by_ss_6\n",
    "\n",
    "state_estimator_ss_6_past_df = state_estimator_ss_6_past_df.iloc[state_estimator_ss_6_past_df[\"state_cd\"].map({v: k for k, v in enumerate(state_order_by_ss_6)}).argsort()]\n",
    "\n",
    "\n",
    "state_estimator_ss_6_past_df = state_estimator_ss_6_past_df\\\n",
    "    .merge(pop_counts_by_sampletypexstate,on='state_cd',how='left')\n",
    "\n",
    "state_estimator_ss_6_past_df\n"
   ]
  },
  {
   "cell_type": "code",
   "execution_count": null,
   "id": "77eca3f7",
   "metadata": {},
   "outputs": [],
   "source": [
    "state_estimator_ss_6_current = TaylorEstimator(\"mean\")\n",
    "state_estimator_ss_6_current.estimate(\n",
    "    y=sub_df_1_as_oversample_states[\"ss_6_current\"],\n",
    "    samp_weight=sub_df_1_as_oversample_states[\"weight2\"],\n",
    "    stratum=sub_df_1_as_oversample_states[\"vstrat32_corrected\"],\n",
    "    psu=sub_df_1_as_oversample_states[\"vpsu32_corrected\"],\n",
    "    domain=sub_df_1_as_oversample_states[\"state_cd\"]\n",
    ")\n",
    "#state_mean_estimates = state_estimator.to_dataframe().rename(columns={\"_domain\":\"state_cd\",\"_estimate\":\"mean\"})\n",
    "\n",
    "state_estimator_ss_6_current_df = state_estimator_ss_6_current.to_dataframe().rename(columns={\"_domain\":\"state_cd\"})\n",
    "\n",
    "\n",
    "#sample_estimator_ss_6_current_df.insert(1,\"_domain\",\"nation\")\n",
    "state_estimator_ss_6_current_df.insert(0,\"geo\",\"state\")\n",
    "state_estimator_ss_6_current_df.insert(0,\"var\",\"ss_6_current\")\n",
    "state_estimator_ss_6_current_df"
   ]
  },
  {
   "cell_type": "code",
   "execution_count": null,
   "id": "2ddad22d",
   "metadata": {},
   "outputs": [],
   "source": [
    "# order state by same order as when sorting by ss_6\n",
    "state_order_by_ss_6 = list(state_estimator_ss_6_df[\"state_cd\"])\n",
    "state_order_by_ss_6\n",
    "\n",
    "state_estimator_ss_6_current_df = state_estimator_ss_6_current_df.iloc[state_estimator_ss_6_current_df[\"state_cd\"].map({v: k for k, v in enumerate(state_order_by_ss_6)}).argsort()]\n",
    "\n",
    "\n",
    "state_estimator_ss_6_current_df = state_estimator_ss_6_current_df\\\n",
    "    .merge(pop_counts_by_sampletypexstate,on='state_cd',how='left')\n",
    "\n",
    "state_estimator_ss_6_current_df"
   ]
  },
  {
   "cell_type": "code",
   "execution_count": null,
   "id": "3530f67c",
   "metadata": {},
   "outputs": [],
   "source": [
    "state_estimator_ss_6_together_df = pd.concat([state_estimator_ss_6_df,state_estimator_ss_6_past_df,state_estimator_ss_6_current_df], axis = 0)\n"
   ]
  },
  {
   "cell_type": "code",
   "execution_count": null,
   "id": "2abe1aee",
   "metadata": {},
   "outputs": [],
   "source": [
    "\n",
    "\n",
    "## order ss_6 vars\n",
    "#ss_6_var_order = [\"ss_6_current\",\"ss_6\",\"ss_6_past\"]\n",
    "#state_estimator_ss_6_df = state_estimator_ss_6_df.iloc[state_estimator_ss_6_df[\"var\"].map({v: k for k, v in enumerate(ss_6_var_order)}).argsort()]\n",
    "\n",
    "# order state by same order as when sorting by ss_6\n",
    "state_order_by_ss_6 = list(state_estimator_ss_6_df[\"state_cd\"])\n",
    "state_order_by_ss_6\n",
    "\n",
    "state_estimator_ss_6_together_df = state_estimator_ss_6_together_df.iloc[state_estimator_ss_6_together_df[\"state_cd\"].map({v: k for k, v in enumerate(state_order_by_ss_6)}).argsort()]\n",
    "\n",
    "\n",
    "state_estimator_ss_6_together_df"
   ]
  },
  {
   "cell_type": "code",
   "execution_count": null,
   "id": "c92c5729",
   "metadata": {},
   "outputs": [],
   "source": [
    "plot_df = state_estimator_ss_6_together_df[state_estimator_ss_6_together_df[\"var\"].isin([\"ss_6\",\"ss_6_past\"])]\n",
    "plot_x_var = \"state_cd\"\n",
    "plot_color_by_var = \"var\"\n",
    "\n",
    "ax = sns.barplot(data=plot_df, x=plot_x_var, y=\"_estimate\", dodge=False, hue=plot_df[plot_color_by_var].astype(\"string\"))\n",
    "sns.move_legend(ax, \"lower center\", bbox_to_anchor=(.5, 1), ncol=2, title=None, frameon=False)\n",
    "#plt.draw()\n",
    "ax.errorbar(data=plot_df, x=plot_x_var, y='_estimate', yerr=[plot_df[\"_estimate\"] - plot_df[\"_lci\"],plot_df[\"_uci\"] - plot_df[\"_estimate\"]], ls='', color='black')\n",
    "ax.set_xticks(ax.get_xticks())\n",
    "ax.set_xticklabels(ax.get_xticklabels(),rotation=45,horizontalalignment='right')"
   ]
  },
  {
   "cell_type": "code",
   "execution_count": null,
   "id": "4b1d4814",
   "metadata": {},
   "outputs": [],
   "source": [
    "plot_df = state_estimator_ss_6_together_df[state_estimator_ss_6_together_df[\"var\"].isin([\"ss_6_past\"])]\n",
    "plot_x_var = \"state_cd\"\n",
    "\n",
    "ax = sns.barplot(data=plot_df, x=plot_x_var, y=\"_estimate\", color=\"dodgerblue\", dodge=False)\n",
    "\n",
    "#plt.draw()\n",
    "ax.errorbar(data=plot_df, x=plot_x_var, y='_estimate', yerr=[plot_df[\"_estimate\"] - plot_df[\"_lci\"],plot_df[\"_uci\"] - plot_df[\"_estimate\"]], ls='', color='black')\n",
    "ax.set_xticks(ax.get_xticks())\n",
    "ax.set_xticklabels(ax.get_xticklabels(),rotation=45,horizontalalignment='right')"
   ]
  },
  {
   "cell_type": "code",
   "execution_count": null,
   "id": "5d6098ab",
   "metadata": {},
   "outputs": [],
   "source": [
    "plot_df = state_estimator_ss_6_together_df[state_estimator_ss_6_together_df[\"var\"].isin([\"ss_6_current\"])]\n",
    "plot_x_var = \"state_cd\"\n",
    "\n",
    "ax = sns.barplot(data=plot_df, x=plot_x_var, y=\"_estimate\", color=\"dodgerblue\", dodge=False)\n",
    "\n",
    "#plt.draw()\n",
    "ax.errorbar(data=plot_df, x=plot_x_var, y='_estimate', yerr=[plot_df[\"_estimate\"] - plot_df[\"_lci\"],plot_df[\"_uci\"] - plot_df[\"_estimate\"]], ls='', color='black')\n",
    "ax.set_xticks(ax.get_xticks())\n",
    "ax.set_xticklabels(ax.get_xticklabels(),rotation=45,horizontalalignment='right')"
   ]
  },
  {
   "cell_type": "code",
   "execution_count": null,
   "id": "c11a6482",
   "metadata": {},
   "outputs": [],
   "source": [
    "# quick map of state level estimates\n",
    "\n",
    "plot_df = state_estimator_ss_6_together_df[state_estimator_ss_6_together_df[\"var\"].isin([\"ss_6\"])]\n",
    "\n",
    "fig = px.choropleth(plot_df,\n",
    "    locations=\"state_cd\",\n",
    "    locationmode=\"USA-states\",\n",
    "    scope=\"usa\",\n",
    "    color=\"_estimate\",\n",
    "    color_continuous_scale=\"Viridis_r\")\n",
    "\n",
    "fig.show()"
   ]
  },
  {
   "cell_type": "code",
   "execution_count": null,
   "id": "b0bfed7f",
   "metadata": {},
   "outputs": [],
   "source": [
    "# quick map of state level estimates\n",
    "\n",
    "plot_df = state_estimator_ss_6_together_df[state_estimator_ss_6_together_df[\"var\"].isin([\"ss_6_past\"])]\n",
    "\n",
    "fig = px.choropleth(plot_df,\n",
    "    locations=\"state_cd\",\n",
    "    locationmode=\"USA-states\",\n",
    "    scope=\"usa\",\n",
    "    color=\"_estimate\",\n",
    "    color_continuous_scale=\"Viridis_r\")\n",
    "\n",
    "fig.show()"
   ]
  },
  {
   "cell_type": "code",
   "execution_count": null,
   "id": "7995610b",
   "metadata": {},
   "outputs": [],
   "source": [
    "# quick map of state level estimates\n",
    "\n",
    "plot_df = state_estimator_ss_6_together_df[state_estimator_ss_6_together_df[\"var\"].isin([\"ss_6_current\"])]\n",
    "\n",
    "fig = px.choropleth(plot_df,\n",
    "    locations=\"state_cd\",\n",
    "    locationmode=\"USA-states\",\n",
    "    scope=\"usa\",\n",
    "    color=\"_estimate\",\n",
    "    color_continuous_scale=\"Viridis_r\")\n",
    "\n",
    "fig.show()"
   ]
  },
  {
   "cell_type": "code",
   "execution_count": null,
   "id": "ac552cea",
   "metadata": {},
   "outputs": [],
   "source": [
    "\n",
    "\n",
    "party_d_estimator = TaylorEstimator(\"mean\")\n",
    "party_d_estimator.estimate(\n",
    "    y=sub_df_1[\"stigma_scale_score\"],\n",
    "    samp_weight=sub_df_1[\"weight2\"],\n",
    "    stratum=sub_df_1[\"vstrat32_corrected\"],\n",
    "    psu=sub_df_1[\"vpsu32_corrected\"],\n",
    "    domain=sub_df_1[\"partyid5_strong_d\"]\n",
    ")\n",
    "\n",
    "\n",
    "party_d_estimator_df = party_d_estimator.to_dataframe()\n",
    "\n",
    "#party_d_estimator_df.insert(1,\"_domain\",\"nation\")\n",
    "party_d_estimator_df.insert(0,\"geo\",\"nation\")\n",
    "party_d_estimator_df.insert(0,\"var\",\"party_d\")\n",
    "print(party_d_estimator_df)\n",
    "\n",
    "#---------------------------------------------------------------\n",
    "\n",
    "party_r_estimator = TaylorEstimator(\"mean\")\n",
    "party_r_estimator.estimate(\n",
    "    y=sub_df_1[\"stigma_scale_score\"],\n",
    "    samp_weight=sub_df_1[\"weight2\"],\n",
    "    stratum=sub_df_1[\"vstrat32_corrected\"],\n",
    "    psu=sub_df_1[\"vpsu32_corrected\"],\n",
    "    domain=sub_df_1[\"partyid5_strong_r\"]\n",
    ")\n",
    "\n",
    "\n",
    "party_r_estimator_df = party_r_estimator.to_dataframe()\n",
    "\n",
    "#party_r_estimator_df.insert(1,\"_domain\",\"nation\")\n",
    "party_r_estimator_df.insert(0,\"geo\",\"nation\")\n",
    "party_r_estimator_df.insert(0,\"var\",\"party_r\")\n",
    "print(party_r_estimator_df)"
   ]
  },
  {
   "cell_type": "code",
   "execution_count": null,
   "id": "bc3c5a47",
   "metadata": {},
   "outputs": [],
   "source": [
    "plot_df = party_d_estimator_df\n",
    "plot_x_var = \"_domain\"\n",
    "\n",
    "ax = sns.barplot(data=plot_df, x=plot_x_var, y=\"_estimate\", color=\"dodgerblue\", dodge=False)\n",
    "\n",
    "#plt.draw()\n",
    "ax.errorbar(data=plot_df, x=plot_x_var, y='_estimate', yerr=[plot_df[\"_estimate\"] - plot_df[\"_lci\"],plot_df[\"_uci\"] - plot_df[\"_estimate\"]], ls='', color='black')\n",
    "ax.set_xticks(ax.get_xticks())\n",
    "ax.set_xticklabels(ax.get_xticklabels(),rotation=45,horizontalalignment='right')"
   ]
  },
  {
   "cell_type": "code",
   "execution_count": null,
   "id": "cc9f2629",
   "metadata": {},
   "outputs": [],
   "source": [
    "plot_df = party_r_estimator_df\n",
    "plot_x_var = \"_domain\"\n",
    "\n",
    "ax = sns.barplot(data=plot_df, x=plot_x_var, y=\"_estimate\", color=\"dodgerblue\", dodge=False)\n",
    "\n",
    "#plt.draw()\n",
    "ax.errorbar(data=plot_df, x=plot_x_var, y='_estimate', yerr=[plot_df[\"_estimate\"] - plot_df[\"_lci\"],plot_df[\"_uci\"] - plot_df[\"_estimate\"]], ls='', color='black')\n",
    "ax.set_xticks(ax.get_xticks())\n",
    "ax.set_xticklabels(ax.get_xticklabels(),rotation=45,horizontalalignment='right')"
   ]
  },
  {
   "cell_type": "code",
   "execution_count": null,
   "id": "ad6005d9",
   "metadata": {},
   "outputs": [],
   "source": [
    "race_view_estimator = TaylorEstimator(\"mean\")\n",
    "race_view_estimator.estimate(\n",
    "    y=sub_df_1[\"stigma_scale_score\"],\n",
    "    samp_weight=sub_df_1[\"weight2\"],\n",
    "    stratum=sub_df_1[\"vstrat32_corrected\"],\n",
    "    psu=sub_df_1[\"vpsu32_corrected\"],\n",
    "    domain=sub_df_1[\"race_view_flag\"]\n",
    ")\n",
    "\n",
    "\n",
    "race_view_estimator_df = race_view_estimator.to_dataframe()\n",
    "\n",
    "#party_r_estimator_df.insert(1,\"_domain\",\"nation\")\n",
    "race_view_estimator_df.insert(0,\"geo\",\"nation\")\n",
    "race_view_estimator_df.insert(0,\"var\",\"race_view_flag\")\n",
    "race_view_estimator_df"
   ]
  },
  {
   "cell_type": "code",
   "execution_count": null,
   "id": "f46576e5",
   "metadata": {},
   "outputs": [],
   "source": [
    "plot_df = race_view_estimator_df\n",
    "plot_x_var = \"_domain\"\n",
    "\n",
    "ax = sns.barplot(data=plot_df, x=plot_x_var, y=\"_estimate\", color=\"dodgerblue\", dodge=False)\n",
    "\n",
    "#plt.draw()\n",
    "ax.errorbar(data=plot_df, x=plot_x_var, y='_estimate', yerr=[plot_df[\"_estimate\"] - plot_df[\"_lci\"],plot_df[\"_uci\"] - plot_df[\"_estimate\"]], ls='', color='black')\n",
    "ax.set_xticks(ax.get_xticks())\n",
    "ax.set_xticklabels(ax.get_xticklabels(),rotation=45,horizontalalignment='right')"
   ]
  },
  {
   "cell_type": "code",
   "execution_count": null,
   "id": "940d7e5d",
   "metadata": {},
   "outputs": [],
   "source": [
    "#'race_whiteadvantage', 'race_rich'\n",
    "\n",
    "race_views_1_estimator = TaylorEstimator(\"mean\")\n",
    "race_views_1_estimator.estimate(\n",
    "    y=sub_df_1[\"stigma_scale_score\"],\n",
    "    samp_weight=sub_df_1[\"weight2\"],\n",
    "    stratum=sub_df_1[\"vstrat32_corrected\"],\n",
    "    psu=sub_df_1[\"vpsu32_corrected\"],\n",
    "    domain=sub_df_1[\"race_whiteadvantage\"]\n",
    ")\n",
    "\n",
    "race_views_1_estimator_df = race_views_1_estimator.to_dataframe()\n",
    "\n",
    "race_views_1_estimator_df.insert(0,\"geo\",\"nation\")\n",
    "race_views_1_estimator_df.insert(0,\"var\",\"race_whiteadvantage\")\n",
    "print(race_views_1_estimator_df)\n",
    "\n",
    "race_views_2_estimator = TaylorEstimator(\"mean\")\n",
    "race_views_2_estimator.estimate(\n",
    "    y=sub_df_1[\"stigma_scale_score\"],\n",
    "    samp_weight=sub_df_1[\"weight2\"],\n",
    "    stratum=sub_df_1[\"vstrat32_corrected\"],\n",
    "    psu=sub_df_1[\"vpsu32_corrected\"],\n",
    "    domain=sub_df_1[\"race_rich\"]\n",
    ")\n",
    "\n",
    "race_views_2_estimator_df = race_views_2_estimator.to_dataframe()\n",
    "\n",
    "race_views_2_estimator_df.insert(0,\"geo\",\"nation\")\n",
    "race_views_2_estimator_df.insert(0,\"var\",\"race_rich\")\n",
    "print(race_views_2_estimator_df)"
   ]
  },
  {
   "cell_type": "code",
   "execution_count": null,
   "id": "8c20a32b",
   "metadata": {},
   "outputs": [],
   "source": [
    "plot_df = race_views_2_estimator_df\n",
    "plot_x_var = \"_domain\"\n",
    "\n",
    "ax = sns.barplot(data=plot_df, x=plot_x_var, y=\"_estimate\", color=\"dodgerblue\", dodge=False)\n",
    "\n",
    "#plt.draw()\n",
    "ax.errorbar(data=plot_df, x=plot_x_var, y='_estimate', yerr=[plot_df[\"_estimate\"] - plot_df[\"_lci\"],plot_df[\"_uci\"] - plot_df[\"_estimate\"]], ls='', color='black')\n",
    "ax.set_xticks(ax.get_xticks())\n",
    "ax.set_xticklabels(ax.get_xticklabels(),rotation=45,horizontalalignment='right')"
   ]
  },
  {
   "cell_type": "code",
   "execution_count": null,
   "id": "1bcb3f92",
   "metadata": {},
   "outputs": [],
   "source": [
    "race_views_1_estimates"
   ]
  },
  {
   "cell_type": "code",
   "execution_count": null,
   "id": "9f2fa104",
   "metadata": {},
   "outputs": [],
   "source": [
    "race_views_2_estimates"
   ]
  },
  {
   "cell_type": "code",
   "execution_count": null,
   "id": "e438fb32",
   "metadata": {},
   "outputs": [],
   "source": [
    "# quick map of state level estimates\n",
    "\n",
    "plot_df = state_estimator_ss_6_df[state_estimator_ss_6_df[\"var\"].isin([\"ss_6\"])]\n",
    "\n",
    "fig = px.choropleth(plot_df,\n",
    "    locations=\"state_cd\",\n",
    "    locationmode=\"USA-states\",\n",
    "    scope=\"usa\",\n",
    "    color=\"_estimate\",\n",
    "    color_continuous_scale=\"Viridis_r\")\n",
    "\n",
    "fig.show()\n"
   ]
  },
  {
   "cell_type": "code",
   "execution_count": null,
   "id": "1f4c7d9f",
   "metadata": {},
   "outputs": [],
   "source": [
    "# merge jcoin info\n",
    "state_mean_estimates = state_mean_estimates\\\n",
    "    .merge(jcoin_df,on='state_cd',how='left')\\\n",
    "    .sort_values(\"mean\",ascending=False)\\\n",
    "    .assign(\n",
    "        jcoin_hub_count=lambda df:df.jcoin_hub_count.fillna(0).astype(int),\n",
    "        jcoin_flag=lambda df:df.jcoin_flag.fillna(0).astype(int))\n",
    "\n",
    "state_mean_estimates[\"jcoin_color\"] = state_mean_estimates.jcoin_flag\n",
    "state_mean_estimates.jcoin_color.replace({0:\"blue\",1:\"red\"},inplace=True)\n",
    "\n",
    "\n",
    "state_mean_estimates.head()"
   ]
  },
  {
   "cell_type": "markdown",
   "id": "6cabba9a-1be6-4169-b92f-d2e6aa28ba26",
   "metadata": {
    "tags": [
     "margin",
     "remove-input"
    ]
   },
   "source": [
    "```{margin} \n",
    "**To go to the data/study page on the HEAL Data Platform, follow this link:** my link\n",
    "```"
   ]
  },
  {
   "cell_type": "markdown",
   "id": "e1b9e924-0014-48c4-a7ad-f83be7a4c6bf",
   "metadata": {
    "tags": [
     "margin",
     "remove-input"
    ]
   },
   "source": [
    "```{margin} \n",
    "**To go to an interactive analytic cloud workspace with the analysis code and data loaded, follow this link:** my link\n",
    "```"
   ]
  },
  {
   "cell_type": "markdown",
   "id": "84d2a3f4-dee6-495f-ab56-f3b8da047719",
   "metadata": {
    "tags": [
     "remove-input"
    ]
   },
   "source": [
    "Lorem ipsum dolor sit amet, consectetur adipiscing elit, sed do eiusmod tempor incididunt ut labore et dolore magna aliqua. Sodales ut eu sem integer vitae justo eget. Pellentesque dignissim enim sit amet venenatis urna cursus. Sed faucibus turpis in eu mi bibendum. Scelerisque felis imperdiet proin fermentum leo. Volutpat est velit egestas dui id ornare arcu. Quis lectus nulla at volutpat diam ut venenatis tellus. Tellus pellentesque eu tincidunt tortor aliquam nulla facilisi cras. Pellentesque adipiscing commodo elit at imperdiet dui. \n",
    "<br>"
   ]
  },
  {
   "cell_type": "markdown",
   "id": "89360e25-0923-451a-bd3a-d6e4eb1e6f6d",
   "metadata": {
    "tags": [
     "remove-input"
    ]
   },
   "source": [
    "Lorem ipsum dolor sit amet, consectetur adipiscing elit, sed do eiusmod tempor incididunt ut labore et dolore magna aliqua. Sodales ut eu sem integer vitae justo eget. Pellentesque dignissim enim sit amet venenatis urna cursus. Sed faucibus turpis in eu mi bibendum. Scelerisque felis imperdiet proin fermentum leo. Volutpat est velit egestas dui id ornare arcu. Quis lectus nulla at volutpat diam ut venenatis tellus. Tellus pellentesque eu tincidunt tortor aliquam nulla facilisi cras. Pellentesque adipiscing commodo elit at imperdiet dui. \n",
    "<br><br>\n",
    "In hac habitasse platea dictumst quisque sagittis purus. Libero volutpat sed cras ornare. Sit amet consectetur adipiscing elit pellentesque habitant morbi tristique senectus. Auctor augue mauris augue neque gravida in fermentum et. Amet mattis vulputate enim nulla aliquet porttitor. Proin sed libero enim sed faucibus turpis in eu. Morbi tristique senectus et netus et malesuada. Feugiat sed lectus vestibulum mattis ullamcorper."
   ]
  },
  {
   "cell_type": "markdown",
   "id": "6e9be514-eb8f-4aa2-836f-854bd0ce1301",
   "metadata": {
    "tags": [
     "remove-input"
    ]
   },
   "source": [
    "**Data Citation** \n",
    "<br>\n",
    "Harold Pollack, Johnathon Schneider, Bruce Taylor. JCOIN 026: Brief Stigma Survey. Chicago, IL: Center for Translational Data Science HEAL Data Platform (distributor) via Center for Translational Data Science JCOIN Data Commons (repository & distributor), 2022-04-08. (HEAL Data Platform branded doi goes here)\n",
    "<br>\n",
    "**Brief Article Citation** \n",
    "<br>\n",
    "What format should this be? "
   ]
  }
 ],
 "metadata": {
  "kernelspec": {
   "display_name": "stigma_survey_p1_env",
   "language": "python",
   "name": "python3"
  },
  "language_info": {
   "codemirror_mode": {
    "name": "ipython",
    "version": 3
   },
   "file_extension": ".py",
   "mimetype": "text/x-python",
   "name": "python",
   "nbconvert_exporter": "python",
   "pygments_lexer": "ipython3",
   "version": "3.9.2"
  }
 },
 "nbformat": 4,
 "nbformat_minor": 5
}
