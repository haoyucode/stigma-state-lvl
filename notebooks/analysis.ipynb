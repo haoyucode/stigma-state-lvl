{
 "cells": [
  {
   "cell_type": "code",
   "execution_count": null,
   "metadata": {},
   "outputs": [],
   "source": [
    "from stigma_state_lvl import models, visualization\n",
    "import frictionless\n",
    "from pathlib import Path"
   ]
  },
  {
   "cell_type": "code",
   "execution_count": null,
   "metadata": {},
   "outputs": [],
   "source": [
    "package = frictionless.Package.from_descriptor(\"datapackage.json\")\n",
    "data = package.get_resource(\"wave1-with-states-processed\").to_pandas()"
   ]
  },
  {
   "cell_type": "markdown",
   "metadata": {},
   "source": [
    "**Stigma scale score (6 item)**"
   ]
  },
  {
   "cell_type": "code",
   "execution_count": null,
   "metadata": {},
   "outputs": [],
   "source": [
    "ycol = \"stigma_scale_score\"\n",
    "natl_estimates = models.get_national_estimates(\n",
    "        data, ycol=ycol\n",
    "    )\n",
    "natl_estimates.to_csv(\n",
    "        f\"data/processed/national-{ycol}-estimates.csv\"\n",
    "    )\n",
    "state_estimates = models.get_state_estimates(\n",
    "        data, ycol=ycol\n",
    "    )\n",
    "state_estimates.to_csv(f\"data/processed/state-{ycol}-estimates.csv\")"
   ]
  },
  {
   "cell_type": "markdown",
   "metadata": {},
   "source": [
    "**Stigma scale score (6 item): past use**\n",
    "\n",
    "    (\"ss_6_past\",\"stigmascore-6item-past-use\"),\n",
    "    (\"ss_6_current\",\"stigmascore-6item-current-use\"),"
   ]
  },
  {
   "cell_type": "markdown",
   "metadata": {},
   "source": [
    "**Stigma scale score (6 item): current use**"
   ]
  },
  {
   "cell_type": "markdown",
   "metadata": {},
   "source": [
    "**Stigma scale score (10 item)**\n",
    "\n",
    "    ('expanded_10item_stigma',\"stigmascore-10item\")"
   ]
  },
  {
   "cell_type": "markdown",
   "metadata": {},
   "source": [
    "**Party affiliation: 5 point categorization**"
   ]
  },
  {
   "cell_type": "markdown",
   "metadata": {},
   "source": [
    "**Party affiliation: 7 point categorization**"
   ]
  },
  {
   "cell_type": "markdown",
   "metadata": {},
   "source": [
    "       -1\tUnknown\n",
    "        1\tStrong Democrat\n",
    "        2\tNot so strong Democrat\n",
    "        3\tLean Democrat\n",
    "        4\tDon't Lean/Independent/None\n",
    "        5\tLean Republican\n",
    "        6\tNot so strong Republican\n",
    "        7\tStrong Republican\n"
   ]
  },
  {
   "cell_type": "markdown",
   "metadata": {},
   "source": [
    "**Cobra scale score**\n",
    "\n",
    "The Color-Blind Racial Attitudes Scale (CoBRAS) is a 20-item measure of the cognitive aspects of color-blind racial attitude, which is defined as “the belief that race should not and does not matter”. The scale includes aspects related to unawareness of racial privilege, institutional discrimination, and blatant racial issues.\n",
    "\n",
    "https://emerge.ucsd.edu/r_5buk6wz1vvqwomr/\n",
    "\n",
    "Neville, H. A., Lilly, R. L, Duran, G., Lee, R. M., Browne, L. (2000). Construction and \n",
    "initial validation of the Color-Blind Racial Attitudes Scale (CoBRAS). Journal of Counseling Psychology, 47, 59-70. \n",
    "\n",
    "https://liberationlab.education.illinois.edu/docs/librariesprovider10/default-document-library/cobras-short-and-long-forms296d7c3980b76a29a33dff05008a8698.pdf?sfvrsn=5cda1688_0\n",
    "\n",
    "\n",
    "\n",
    "Factor 1: Unawareness of Racial Privilege \n",
    "\n",
    "\n",
    "| Number in 20 question scale | Variable name in dataset |\n",
    "|-----------------------------|--------------------------|\n",
    "| 1                           | RACE_Rich                |\n",
    "| 2                           | RACE_SocServices         |\n",
    "| 6                           | RACE_Successful          |\n",
    "| 8                           | RACE_Opportunity         |\n",
    "| 12                          | RACE_MinAdvantage        |\n",
    "| 15                          | RACE_WhiteBlame          |\n",
    "| 20                          | RACE_Prison              |\n"
   ]
  },
  {
   "cell_type": "markdown",
   "metadata": {},
   "source": []
  }
 ],
 "metadata": {
  "language_info": {
   "name": "python"
  }
 },
 "nbformat": 4,
 "nbformat_minor": 2
}
