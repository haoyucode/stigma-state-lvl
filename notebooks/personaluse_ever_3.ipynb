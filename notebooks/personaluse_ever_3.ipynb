{
 "cells": [
  {
   "cell_type": "markdown",
   "id": "3c7ee545-94dc-4313-a611-0f6fc38b51d4",
   "metadata": {
    "tags": [
     "hide-input"
    ]
   },
   "source": [
    "# Stigma against Opioid Use Disorder varies by Personal Use status"
   ]
  },
  {
   "cell_type": "markdown",
   "id": "b33a0ab3-27a0-4d2c-9f3c-8bdd71b7a1c6",
   "metadata": {
    "tags": [
     "margin",
     "remove-input"
    ]
   },
   "source": [
    "```{margin} \n",
    "**To follow the full analysis, click through the hidden analysis code below**\n",
    "```"
   ]
  },
  {
   "cell_type": "code",
   "execution_count": null,
   "id": "67b6df4a-6479-4274-aba2-34157f64eee6",
   "metadata": {
    "tags": [
     "hide-input",
     "margin"
    ]
   },
   "outputs": [],
   "source": [
    "# import packages\n",
    "import os\n",
    "import pandas as pd\n",
    "import numpy as np\n",
    "import pyreadstat\n",
    "import seaborn as sns\n",
    "import matplotlib.pyplot as plt\n",
    "\n",
    "pd.set_option('mode.chained_assignment', None)"
   ]
  },
  {
   "cell_type": "code",
   "execution_count": null,
   "id": "df55a4f9-ad51-47dd-be63-e77890aa430c",
   "metadata": {
    "tags": [
     "hide-input",
     "margin"
    ]
   },
   "outputs": [],
   "source": [
    "# import data and metadata (data dictionaries)\n",
    "os.chdir(\"P:/3652/Common/HEAL/Data-and-analytics/stigma-surveys/protocol-1/data-for-sharing/heal/\")\n",
    "\n",
    "# import data\n",
    "df1 = pd.read_csv(\"jcoin_norc_omnibus_survey1_feb2020_072821-data.tsv\", sep='\\t')\n",
    "df2 = pd.read_csv(\"jcoin_norc_omnibus_survey2_april2020_072821-data.tsv\", sep='\\t')\n",
    "df3 = pd.read_csv(\"jcoin_norc_omnibus_survey3_june2020_072821-data.tsv\", sep='\\t')\n",
    "df4 = pd.read_csv(\"jcoin_norc_omnibus_survey4_oct2020_072821-data.tsv\", sep='\\t')\n",
    "\n",
    "# import metadata (data dictionaries)\n",
    "meta1 = pd.read_csv(\"jcoin_norc_omnibus_survey1_feb2020_072821-data_dictionary.tsv\", sep='\\t')\n",
    "meta2 = pd.read_csv(\"jcoin_norc_omnibus_survey2_april2020_072821-data_dictionary.tsv\", sep='\\t')\n",
    "meta3 = pd.read_csv(\"jcoin_norc_omnibus_survey3_june2020_072821-data_dictionary.tsv\", sep='\\t')\n",
    "meta4 = pd.read_csv(\"jcoin_norc_omnibus_survey4_oct2020_072821-data_dictionary.tsv\", sep='\\t')"
   ]
  },
  {
   "cell_type": "code",
   "execution_count": null,
   "id": "93ecaa4e-433d-417d-a3a6-384081b42a1e",
   "metadata": {
    "tags": [
     "hide-input",
     "margin"
    ]
   },
   "outputs": [],
   "source": [
    "# narrow down the dataset to only variables that are collected at each of the time-points\n",
    "\n",
    "# standardize column names across datasets and metadatasets\n",
    "for df in [df1, df2, df3, df4]:\n",
    "    df.columns = df.columns.str.lower()\n",
    "    \n",
    "for meta in [meta1, meta2, meta3, meta4]:\n",
    "    meta.name = meta.name.str.lower()  \n",
    "    \n",
    "# combine data from all surveys into one long dataset, keeping only vars available across all survey datasets (time-points)\n",
    "all_df = pd.concat([df1, df2, df3, df4], keys=['feb2020','apr2020','jun2020','oct2020'], join=\"inner\").reset_index().rename(columns={\"level_0\": \"time-point\"})\n",
    "\n",
    "# combine metadata (data dictionaries) from all surveys into one long metadataset (data dictionary), keeping only vars available across all survey datasets\n",
    "# stacking these and sorting by variable name allow the data user to compare the variable description acrosss time-points to ensure they are consistent, or alert the data-user to inconsistencies in variable description/definition across time-points \n",
    "all_meta = pd.concat([meta1, meta2, meta3, meta4], keys=['feb2020','apr2020','jun2020','oct2020'], join=\"inner\").reset_index().rename(columns={\"level_0\": \"time-point\"})\n",
    "all_meta = all_meta[all_meta['name'].isin(all_df.columns)].sort_values(by = ['name']) "
   ]
  },
  {
   "cell_type": "code",
   "execution_count": null,
   "id": "steady-filing",
   "metadata": {
    "tags": [
     "hide-input",
     "margin"
    ]
   },
   "outputs": [],
   "source": [
    "# narrow down the dataset to only a few interesting (and relatively clean, straightforward variables) - check for missingness and impute to fill in missing\n",
    "\n",
    "# get subset of interesting variables\n",
    "sub_df_1 = all_df[['time-point','weight','stigma_scale_score','age4','region4','personaluse_ever']]\n",
    "\n",
    "# check for missing, impute missing stigma scale score vals with median per timepoint, impute missing personaluse_ever with mode, \"No\"\n",
    "\n",
    "# check if missing values\n",
    "sub_df_1.isnull().sum()\n",
    "\n",
    "# get all var types\n",
    "#sub_df_1.info()\n",
    "\n",
    "# summary of numeric vars (weight and stigma_scale_score)\n",
    "sub_df_1.describe()\n",
    "\n",
    "# summary of cat vars (age4, region9, personaluse_ever)\n",
    "sub_df_1.age4.value_counts(dropna=False)\n",
    "\n",
    "# summary of cat vars (age4, region9, personaluse_ever)\n",
    "sub_df_1.region4.value_counts(dropna=False)\n",
    "\n",
    "# summary of cat vars (age4, region9, personaluse_ever)\n",
    "sub_df_1.personaluse_ever.value_counts(dropna=False)\n",
    "\n",
    "# impute missing stigma scale score values as the median score by survey time-point\n",
    "sub_df_1['stigma_scale_score'].fillna(sub_df_1.groupby('time-point')['stigma_scale_score'].transform('median'),inplace=True)\n",
    "sub_df_1.isnull().sum()\n",
    "\n",
    "# replace missing values of personaluse_ever with mode value of 'No'\n",
    "sub_df_1.personaluse_ever.fillna('No',inplace=True)\n",
    "#sub_df_1.isnull().sum()\n",
    "\n",
    "#sub_df_1"
   ]
  },
  {
   "cell_type": "code",
   "execution_count": null,
   "id": "round-wells",
   "metadata": {
    "tags": [
     "hide-input",
     "margin"
    ]
   },
   "outputs": [],
   "source": [
    "# define function to calculate weighted mean of across the full population for survey vars - necessary to properly weight in order to retain the validity of nationally representative survey sampling strategy \n",
    "\n",
    "# sum of weights will not be equal to count of individuals when we look at sub-groups of the full population; \n",
    "# will have to formally calculate weighted average\n",
    "def weighted_mean(x, **kws):\n",
    "    val, weight = map(np.asarray, zip(*x))\n",
    "    weighted_mean = (val * weight).sum() / weight.sum()\n",
    "    return (val * weight).sum() / weight.sum()\n",
    "\n",
    "sub_df_1[\"score_and_weight\"] = list(zip(sub_df_1.stigma_scale_score, sub_df_1.weight))"
   ]
  },
  {
   "cell_type": "code",
   "execution_count": null,
   "id": "c3ad661c-cc91-4ce8-a928-a36e6fabdb18",
   "metadata": {
    "tags": [
     "hide-input",
     "margin"
    ]
   },
   "outputs": [],
   "source": [
    "fig, (ax1, ax2) = plt.subplots(1, 2, sharey=True)\n",
    "fig.suptitle('Stigma Scale Score over time',fontsize='x-large',fontweight='bold')\n",
    "\n",
    "one = sns.lineplot(ax = ax1,\n",
    "             data = sub_df_1,\n",
    "             x = 'time-point',\n",
    "             y = 'score_and_weight',\n",
    "             estimator = weighted_mean\n",
    "             #hue = 'personaluse_ever'\n",
    "            )\n",
    "\n",
    "plt.draw()\n",
    "one.set_xticks(one.get_xticks())\n",
    "one.set_xticklabels(one.get_xticklabels(),rotation=45,horizontalalignment='right')\n",
    "one.set_ylim(5, 1) # this is the average of 6 5-point likert scale questions; set the min/max accordingly\n",
    "#for tick in one.get_xticklabels():\n",
    "#    tick.set_rotation(45)\n",
    "    \n",
    "    \n",
    "ax1.set_title('Stigma Scale Score')\n",
    "ax1.set(ylabel='Stigma Scale Score')\n",
    "ax1.set(xlabel='')\n",
    "ax1.invert_yaxis()\n",
    "#ax1.set_xticks(ax1.get_xticks())  # just get and reset whatever you already have\n",
    "#one.set_xticklabels(one.get_xticklabels(),rotation=45,horizontalalignment='right')  # set the new/modified labels\n",
    "\n",
    "two = sns.lineplot(ax = ax2,\n",
    "             data = sub_df_1,\n",
    "             x = 'time-point',\n",
    "             y = 'score_and_weight',\n",
    "             hue = 'personaluse_ever',\n",
    "             estimator = weighted_mean\n",
    "            )\n",
    "\n",
    "plt.draw()\n",
    "two.set_xticks(two.get_xticks())\n",
    "two.set_xticklabels(two.get_xticklabels(),rotation=45,horizontalalignment='right')\n",
    "two.set_ylim(5, 1) # this is the average of 6 5-point likert scale questions; set the min/max accordingly\n",
    "\n",
    "ax2.set_title('Stigma Scale Score\\nby Personal Use Status')\n",
    "ax2.set(xlabel='')\n",
    "ax2.invert_yaxis()\n",
    "\n",
    "legend2 = ax2.legend()\n",
    "#legend2.remove()\n",
    "\n",
    "#leg = ax2.legend(loc='center', bbox_to_anchor=(1.1, -0.25), shadow=False, ncol=2, frameon=False)\n",
    "\n",
    "plt.subplots_adjust(top=0.80)\n",
    "plt.show()"
   ]
  },
  {
   "cell_type": "markdown",
   "id": "6cabba9a-1be6-4169-b92f-d2e6aa28ba26",
   "metadata": {
    "tags": [
     "margin",
     "remove-input"
    ]
   },
   "source": [
    "```{margin} \n",
    "**To go to the data/study page on the HEAL Data Platform, follow this link:** my link\n",
    "```"
   ]
  },
  {
   "cell_type": "markdown",
   "id": "e1b9e924-0014-48c4-a7ad-f83be7a4c6bf",
   "metadata": {
    "tags": [
     "margin",
     "remove-input"
    ]
   },
   "source": [
    "```{margin} \n",
    "**To go to an interactive analytic cloud workspace with the analysis code and data loaded, follow this link:** my link\n",
    "```"
   ]
  },
  {
   "cell_type": "markdown",
   "id": "84d2a3f4-dee6-495f-ab56-f3b8da047719",
   "metadata": {
    "tags": [
     "remove-input"
    ]
   },
   "source": [
    "**Problem**\n",
    "<br>\n",
    "Stigma against persons with opioid use disorder (OUD) likely leads to barriers to availability and uptake of treatment for OUD; Research on stigma against persons with OUD is sparse. \n",
    "<br><br>\n",
    "Stigma is a known influencer of health in the case of substance use disorder and other health conditions (e.g. other mental health conditions, HIV/AIDS). However, research related specifically to stigma and OUD is sparse.\n",
    "<br><br>\n",
    "Stigma against persons with opioid use disorder (OUD) may act as a barrier to OUD treatment by lowering availability of treatment to and uptake of treatment by persons with OUD. It may turn politicians and philanthropists off from funding evidence-based treatment or individual doctors off from prescribing evidence-based treatment to their patients. It may breed ‘not in my backyard’ sentiments that prevent treatment centers from being located where they are most needed and degrade public support for public health approaches to OUD. And it may prevent persons with OUD from self-identifying and seeking the treatment they need.\n",
    "<br><br>\n",
    "We need to measure levels of stigma specifically against persons with OUD, as well as demographic and life-experience and attitudinal correlates of stigma in order to determine the scope of, and possible approach to addressing, impacts of stigma on OUD health outcomes.  "
   ]
  },
  {
   "cell_type": "code",
   "execution_count": null,
   "id": "19603d20-965e-4480-9fa7-6cba2c2798dd",
   "metadata": {
    "tags": [
     "remove-input"
    ]
   },
   "outputs": [],
   "source": [
    "fig, (ax1, ax2) = plt.subplots(1, 2, sharey=True)\n",
    "fig.suptitle('Stigma Scale Score over time',fontsize='x-large',fontweight='bold')\n",
    "\n",
    "one = sns.lineplot(ax = ax1,\n",
    "             data = sub_df_1,\n",
    "             x = 'time-point',\n",
    "             y = 'score_and_weight',\n",
    "             estimator = weighted_mean\n",
    "             #hue = 'personaluse_ever'\n",
    "            )\n",
    "\n",
    "plt.draw()\n",
    "one.set_xticks(one.get_xticks())\n",
    "one.set_xticklabels(one.get_xticklabels(),rotation=45,horizontalalignment='right')\n",
    "one.set_ylim(5, 1) # this is the average of 6 5-point likert scale questions; set the min/max accordingly\n",
    "#for tick in one.get_xticklabels():\n",
    "#    tick.set_rotation(45)\n",
    "    \n",
    "    \n",
    "ax1.set_title('Stigma Scale Score')\n",
    "ax1.set(ylabel='Stigma Scale Score')\n",
    "ax1.set(xlabel='')\n",
    "ax1.invert_yaxis()\n",
    "#ax1.set_xticks(ax1.get_xticks())  # just get and reset whatever you already have\n",
    "#one.set_xticklabels(one.get_xticklabels(),rotation=45,horizontalalignment='right')  # set the new/modified labels\n",
    "\n",
    "two = sns.lineplot(ax = ax2,\n",
    "             data = sub_df_1,\n",
    "             x = 'time-point',\n",
    "             y = 'score_and_weight',\n",
    "             hue = 'personaluse_ever',\n",
    "             estimator = weighted_mean\n",
    "            )\n",
    "\n",
    "plt.draw()\n",
    "two.set_xticks(two.get_xticks())\n",
    "two.set_xticklabels(two.get_xticklabels(),rotation=45,horizontalalignment='right')\n",
    "two.set_ylim(5, 1) # this is the average of 6 5-point likert scale questions; set the min/max accordingly\n",
    "\n",
    "ax2.set_title('Stigma Scale Score\\nby Personal Use Status')\n",
    "ax2.set(xlabel='')\n",
    "ax2.invert_yaxis()\n",
    "\n",
    "legend2 = ax2.legend()\n",
    "#legend2.remove()\n",
    "\n",
    "#leg = ax2.legend(loc='center', bbox_to_anchor=(1.1, -0.25), shadow=False, ncol=2, frameon=False)\n",
    "\n",
    "plt.subplots_adjust(top=0.80)\n",
    "plt.show()"
   ]
  },
  {
   "cell_type": "markdown",
   "id": "8ac5fe28-88f9-4897-abc2-7fb33f33e621",
   "metadata": {
    "tags": [
     "remove-input"
    ]
   },
   "source": [
    "**Data** \n",
    "<br>\n",
    "From a study by Taylor et al., a repeated cross-sectional survey of a nationally representative sample of approximately 1000 persons, repeated every few months over the course of several years starting in Feb 2020. Survey questions ask about respondent demographics, personal and familial experience of illicit opioid use, personal and familial experience of contact with the criminal justice system, as well as personal attitudes towards OUD, persons with OUD, and policies related to OUD. \n",
    "<br><br>\n",
    "Stigma towards persons with OUD is measured as the average of the respondent’s answers to 6 questions. Each question is measured on a 5-point Likert scale (strongly agree to strongly disagree); the first four items are reverse-coded, so that higher scores indicate higher stigma. A score of 3 on any of these questions corresponds to an answer of ‘Do not agree or disagree’.\n",
    "<br><br>\n",
    "Items include:\n",
    "1. I would be willing to have a person with a past history of opioid use disorder/addiction start working closely with me on a job. \n",
    "2. I am comfortable having a person with a past history of opioid use disorder/addiction marry into my family.\n",
    "3. I would be willing to have a person with a current opioid use disorder/addiction start working closely with me on a job. \n",
    "4. I would be comfortable to have a person with a current opioid use disorder/addiction marry into my family.\n",
    "5. People with a current addiction to opioids/prescription pain medications are more dangerous than the general population.\n",
    "6. A person who is currently addicted to opioids/prescription pain medication cannot be trusted.\n",
    "\n",
    "<br>\n",
    "\n",
    "**Take-away** \n",
    "<br>\n",
    "Overall, stigma towards persons with OUD is lower than expected, with average stigma levels just above a value of 3 (a stigma level considered to be ‘moderate’). Stigma towards persons with OUD is lower among persons who report personal experience with illicit opioid use. \n",
    "<br><br>"
   ]
  },
  {
   "cell_type": "code",
   "execution_count": null,
   "id": "8fed8b30-1ace-4dc3-ae9c-b5319c8bfb7b",
   "metadata": {
    "tags": [
     "remove-cell"
    ]
   },
   "outputs": [],
   "source": [
    "# https://stackoverflow.com/questions/25654845/how-can-i-create-a-text-box-for-a-note-in-markdown"
   ]
  },
  {
   "cell_type": "markdown",
   "id": "6e9be514-eb8f-4aa2-836f-854bd0ce1301",
   "metadata": {
    "tags": [
     "remove-input"
    ]
   },
   "source": [
    "<div class=\"warning\" style='padding:0.1em; background-color:#E9D8FD; color:#69337A'>\n",
    "<span>\n",
    "<p style='margin-top:1em; text-align:center'>\n",
    "<b>Citation</b></p>\n",
    "<p style='margin-left:1em;'>\n",
    "<b>Data Citation</b> \n",
    "<br>\n",
    "Harold Pollack, Johnathon Schneider, Bruce Taylor. JCOIN 026: Brief Stigma Survey. Chicago, IL: Center for Translational Data Science HEAL Data Platform (distributor) via Center for Translational Data Science JCOIN Data Commons (repository & distributor), 2022-04-08. (HEAL Data Platform branded doi goes here)\n",
    "<br><br>\n",
    "<b>Brief Article Citation</b> \n",
    "<br>\n",
    "What format should this be? \n",
    "</p>\n",
    "</span>\n",
    "</div>\n",
    "\n",
    "\n",
    "    \n",
    "\n"
   ]
  }
 ],
 "metadata": {
  "kernelspec": {
   "display_name": "norc_jcoin_026",
   "language": "python",
   "name": "norc_jcoin_026"
  },
  "language_info": {
   "codemirror_mode": {
    "name": "ipython",
    "version": 3
   },
   "file_extension": ".py",
   "mimetype": "text/x-python",
   "name": "python",
   "nbconvert_exporter": "python",
   "pygments_lexer": "ipython3",
   "version": "3.9.2"
  }
 },
 "nbformat": 4,
 "nbformat_minor": 5
}
